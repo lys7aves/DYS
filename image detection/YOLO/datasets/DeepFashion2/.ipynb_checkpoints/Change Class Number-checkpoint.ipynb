{
 "cells": [
  {
   "cell_type": "code",
   "execution_count": 1,
   "metadata": {},
   "outputs": [],
   "source": [
    "import os\n",
    "import shutil"
   ]
  },
  {
   "cell_type": "code",
   "execution_count": null,
   "metadata": {},
   "outputs": [],
   "source": []
  },
  {
   "cell_type": "markdown",
   "metadata": {},
   "source": [
    "# Read Directory List"
   ]
  },
  {
   "cell_type": "code",
   "execution_count": 2,
   "metadata": {},
   "outputs": [],
   "source": [
    "def readDirList(path_dir='.'):\n",
    "    file_list = os.listdir(path_dir)\n",
    "    \n",
    "    return file_list"
   ]
  },
  {
   "cell_type": "code",
   "execution_count": null,
   "metadata": {},
   "outputs": [],
   "source": []
  },
  {
   "cell_type": "markdown",
   "metadata": {},
   "source": [
    "# Save List to Text File"
   ]
  },
  {
   "cell_type": "code",
   "execution_count": 3,
   "metadata": {},
   "outputs": [],
   "source": [
    "def saveList2(fileName, data_list):\n",
    "    path, name = os.path.split(fileName)\n",
    "    if not os.path.exists(path):\n",
    "        os.makedirs(path)\n",
    "    \n",
    "    f = open(fileName, 'w')\n",
    "    \n",
    "    for data in data_list:\n",
    "        for d in data:\n",
    "            f.write(str(d))\n",
    "            f.write(' ')\n",
    "        f.write('\\n')\n",
    "    \n",
    "    f.close()"
   ]
  },
  {
   "cell_type": "code",
   "execution_count": null,
   "metadata": {},
   "outputs": [],
   "source": []
  },
  {
   "cell_type": "markdown",
   "metadata": {},
   "source": [
    "# Change Class"
   ]
  },
  {
   "cell_type": "code",
   "execution_count": 4,
   "metadata": {},
   "outputs": [],
   "source": [
    "def changeClass(path, new_class):\n",
    "    f = open(path, 'r')\n",
    "    \n",
    "    data = []\n",
    "    while True:\n",
    "        line = f.readline()\n",
    "        if not line: break\n",
    "        \n",
    "        split = line.split()\n",
    "        split[0] = new_class[int(split[0])]\n",
    "        \n",
    "        data.append(split)\n",
    "        \n",
    "    f.close()\n",
    "    \n",
    "    return data"
   ]
  },
  {
   "cell_type": "code",
   "execution_count": null,
   "metadata": {},
   "outputs": [],
   "source": []
  },
  {
   "cell_type": "markdown",
   "metadata": {},
   "source": [
    "# Final"
   ]
  },
  {
   "cell_type": "code",
   "execution_count": 5,
   "metadata": {},
   "outputs": [],
   "source": [
    "def ChangeClassNumber(src_path, dest_path, new_class):\n",
    "    file_list = readDirList(src_path)\n",
    "    \n",
    "    for file in file_list:\n",
    "        data = changeClass(src_path+file, new_class)\n",
    "\n",
    "        saveList2(dest_path+file, data)"
   ]
  },
  {
   "cell_type": "code",
   "execution_count": null,
   "metadata": {},
   "outputs": [],
   "source": []
  },
  {
   "cell_type": "code",
   "execution_count": null,
   "metadata": {},
   "outputs": [],
   "source": []
  },
  {
   "cell_type": "code",
   "execution_count": null,
   "metadata": {},
   "outputs": [],
   "source": []
  },
  {
   "cell_type": "code",
   "execution_count": null,
   "metadata": {},
   "outputs": [],
   "source": [
    "ChangeClassNumber('labels/practice/', 'labels/practice_3type/', [0, 0, 2, 2, 2, 2, 1, 1, 2, 2, 2, 2, 2])\n",
    "ChangeClassNumber('labels/train/', 'labels/train_3type/', [0, 0, 2, 2, 2, 2, 1, 1, 2, 2, 2, 2, 2])\n",
    "ChangeClassNumber('labels/val/', 'labels/val_3type/', [0, 0, 2, 2, 2, 2, 1, 1, 2, 2, 2, 2, 2])"
   ]
  },
  {
   "cell_type": "code",
   "execution_count": null,
   "metadata": {},
   "outputs": [],
   "source": []
  }
 ],
 "metadata": {
  "kernelspec": {
   "display_name": "Python 3",
   "language": "python",
   "name": "python3"
  },
  "language_info": {
   "codemirror_mode": {
    "name": "ipython",
    "version": 3
   },
   "file_extension": ".py",
   "mimetype": "text/x-python",
   "name": "python",
   "nbconvert_exporter": "python",
   "pygments_lexer": "ipython3",
   "version": "3.8.5"
  }
 },
 "nbformat": 4,
 "nbformat_minor": 5
}
