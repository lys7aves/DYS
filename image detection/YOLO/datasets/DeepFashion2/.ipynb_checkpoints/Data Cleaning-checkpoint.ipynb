{
 "cells": [
  {
   "cell_type": "code",
   "execution_count": 2,
   "id": "9d2aba98",
   "metadata": {},
   "outputs": [],
   "source": [
    "import os\n",
    "import json"
   ]
  },
  {
   "cell_type": "code",
   "execution_count": null,
   "id": "858785c7",
   "metadata": {},
   "outputs": [],
   "source": []
  },
  {
   "cell_type": "markdown",
   "id": "36a2efa8",
   "metadata": {},
   "source": [
    "# Read Directory List"
   ]
  },
  {
   "cell_type": "code",
   "execution_count": 28,
   "id": "de32a15c",
   "metadata": {},
   "outputs": [],
   "source": [
    "def readDirList(path_dir='.'):\n",
    "    file_list = os.listdir(path_dir)\n",
    "    \n",
    "    return file_list"
   ]
  },
  {
   "cell_type": "code",
   "execution_count": 29,
   "id": "71857191",
   "metadata": {},
   "outputs": [
    {
     "ename": "NameError",
     "evalue": "name 'img_path' is not defined",
     "output_type": "error",
     "traceback": [
      "\u001b[1;31m---------------------------------------------------------------------------\u001b[0m",
      "\u001b[1;31mNameError\u001b[0m                                 Traceback (most recent call last)",
      "\u001b[1;32m<ipython-input-29-98800be1e040>\u001b[0m in \u001b[0;36m<module>\u001b[1;34m\u001b[0m\n\u001b[1;32m----> 1\u001b[1;33m \u001b[0mimg_list\u001b[0m \u001b[1;33m=\u001b[0m \u001b[0mreadDirList\u001b[0m\u001b[1;33m(\u001b[0m\u001b[0mimg_path\u001b[0m \u001b[1;33m+\u001b[0m \u001b[0mdataType\u001b[0m\u001b[1;33m)\u001b[0m\u001b[1;33m\u001b[0m\u001b[1;33m\u001b[0m\u001b[0m\n\u001b[0m",
      "\u001b[1;31mNameError\u001b[0m: name 'img_path' is not defined"
     ]
    }
   ],
   "source": [
    "img_list = readDirList(img_path + dataType)"
   ]
  },
  {
   "cell_type": "code",
   "execution_count": 65,
   "id": "5da54fdd",
   "metadata": {},
   "outputs": [
    {
     "name": "stdout",
     "output_type": "stream",
     "text": [
      "['000001.jpg', '000002.jpg', '000003.jpg', '000004.jpg', '000005.jpg', '000006.jpg', '000007.jpg', '000008.jpg', '000009.jpg', '000010.jpg']\n"
     ]
    }
   ],
   "source": [
    "print(img_list)"
   ]
  },
  {
   "cell_type": "code",
   "execution_count": null,
   "id": "fa95c82e",
   "metadata": {},
   "outputs": [],
   "source": []
  },
  {
   "cell_type": "code",
   "execution_count": null,
   "id": "b2bdad48",
   "metadata": {},
   "outputs": [],
   "source": []
  },
  {
   "cell_type": "markdown",
   "id": "680264fe",
   "metadata": {},
   "source": [
    "# List Cleaning"
   ]
  },
  {
   "cell_type": "code",
   "execution_count": null,
   "id": "6cfd87e3",
   "metadata": {},
   "outputs": [],
   "source": []
  },
  {
   "cell_type": "code",
   "execution_count": 68,
   "id": "56898990",
   "metadata": {},
   "outputs": [],
   "source": [
    "def listCleaning(img_file_list=[], dataType):\n",
    "    imgages_list = []\n",
    "    annos_list = []\n",
    "    labels_list = []\n",
    "    \n",
    "    for img_file in img_file_list:\n",
    "        name = img_file[:-4]\n",
    "        \n",
    "        im = './images/' + dataType + '/' + name + '.jpg'\n",
    "        annos = './annos/' + dataType + '/' + name + '.json'\n",
    "        labels\n",
    "        \n",
    "        \n",
    "        img_path = path + img\n",
    "        img_path_list.append(img_path)\n",
    "        \n",
    "        anno = data + '.json'\n",
    "        anno_list.append(anno)\n",
    "        \n",
    "        label = data + '.txt'\n",
    "        label_list.append(label)\n",
    "    \n",
    "    return img_path_list, data_list, anno_list, label_list"
   ]
  },
  {
   "cell_type": "code",
   "execution_count": null,
   "id": "d94b40d2",
   "metadata": {},
   "outputs": [],
   "source": []
  },
  {
   "cell_type": "code",
   "execution_count": 69,
   "id": "6d4f0390",
   "metadata": {},
   "outputs": [],
   "source": [
    "img_path_list, data_list, anno_list, label_list = listCleaning(img_list, img_path+dataType+'/')"
   ]
  },
  {
   "cell_type": "code",
   "execution_count": 71,
   "id": "8edd22d5",
   "metadata": {},
   "outputs": [
    {
     "name": "stdout",
     "output_type": "stream",
     "text": [
      "['000001.jpg', '000002.jpg', '000003.jpg', '000004.jpg', '000005.jpg', '000006.jpg', '000007.jpg', '000008.jpg', '000009.jpg', '000010.jpg']\n",
      "['./images/practice/000001.jpg', './images/practice/000002.jpg', './images/practice/000003.jpg', './images/practice/000004.jpg', './images/practice/000005.jpg', './images/practice/000006.jpg', './images/practice/000007.jpg', './images/practice/000008.jpg', './images/practice/000009.jpg', './images/practice/000010.jpg']\n",
      "['000001', '000002', '000003', '000004', '000005', '000006', '000007', '000008', '000009', '000010']\n",
      "['000001.json', '000002.json', '000003.json', '000004.json', '000005.json', '000006.json', '000007.json', '000008.json', '000009.json', '000010.json']\n",
      "['000001.txt', '000002.txt', '000003.txt', '000004.txt', '000005.txt', '000006.txt', '000007.txt', '000008.txt', '000009.txt', '000010.txt']\n"
     ]
    }
   ],
   "source": [
    "print(img_list)\n",
    "print(img_path_list)\n",
    "print(data_list)\n",
    "print(anno_list)\n",
    "print(label_list)"
   ]
  },
  {
   "cell_type": "markdown",
   "id": "99af3b22",
   "metadata": {},
   "source": [
    "# Save List to Text File"
   ]
  },
  {
   "cell_type": "code",
   "execution_count": 35,
   "id": "c603bcd9",
   "metadata": {},
   "outputs": [],
   "source": [
    "def saveList(fileName, img_list):\n",
    "    f = open(fileName, 'w')\n",
    "    \n",
    "    for img in img_list:\n",
    "        f.write(img)\n",
    "        f.write('\\n')\n",
    "    \n",
    "    f.close()"
   ]
  },
  {
   "cell_type": "code",
   "execution_count": null,
   "id": "4ba58961",
   "metadata": {},
   "outputs": [],
   "source": []
  },
  {
   "cell_type": "code",
   "execution_count": null,
   "id": "e8e1ca5b",
   "metadata": {},
   "outputs": [],
   "source": []
  },
  {
   "cell_type": "code",
   "execution_count": null,
   "id": "5a435b97",
   "metadata": {},
   "outputs": [],
   "source": []
  },
  {
   "cell_type": "markdown",
   "id": "310c8322",
   "metadata": {},
   "source": [
    "# Data Cleaning"
   ]
  },
  {
   "cell_type": "code",
   "execution_count": 50,
   "id": "c015c074",
   "metadata": {},
   "outputs": [
    {
     "ename": "SyntaxError",
     "evalue": "unexpected EOF while parsing (<ipython-input-50-5cc1fdb893ad>, line 12)",
     "output_type": "error",
     "traceback": [
      "\u001b[1;36m  File \u001b[1;32m\"<ipython-input-50-5cc1fdb893ad>\"\u001b[1;36m, line \u001b[1;32m12\u001b[0m\n\u001b[1;33m    \u001b[0m\n\u001b[1;37m    ^\u001b[0m\n\u001b[1;31mSyntaxError\u001b[0m\u001b[1;31m:\u001b[0m unexpected EOF while parsing\n"
     ]
    }
   ],
   "source": [
    "def dataCleaning(dataType='train'):\n",
    "    img_path = './images/'\n",
    "    label_path = './labels/'\n",
    "    anno_path = './annos/'\n",
    "    \n",
    "    img_list = readDirList(img_path + dataType)\n",
    "    img_path_list, data_list, anno_list, label_list = listCleaning(img_list, img_path+dataType+'/')\n",
    "    \n",
    "    saveList(dataType+'.txt', img_path_list)\n",
    "    \n",
    "    for img in img_list:\n",
    "        "
   ]
  },
  {
   "cell_type": "code",
   "execution_count": 51,
   "id": "9b958c31",
   "metadata": {},
   "outputs": [],
   "source": [
    "dataType = 'practice'"
   ]
  },
  {
   "cell_type": "code",
   "execution_count": 52,
   "id": "5350ec44",
   "metadata": {},
   "outputs": [],
   "source": [
    "img_path = './images/'"
   ]
  },
  {
   "cell_type": "code",
   "execution_count": 53,
   "id": "cab275ec",
   "metadata": {},
   "outputs": [],
   "source": [
    "img_list = readDirList(img_path + dataType)"
   ]
  },
  {
   "cell_type": "code",
   "execution_count": 55,
   "id": "71e2603b",
   "metadata": {},
   "outputs": [
    {
     "name": "stdout",
     "output_type": "stream",
     "text": [
      "./images/practice/\n"
     ]
    },
    {
     "ename": "TypeError",
     "evalue": "can only concatenate str (not \"list\") to str",
     "output_type": "error",
     "traceback": [
      "\u001b[1;31m---------------------------------------------------------------------------\u001b[0m",
      "\u001b[1;31mTypeError\u001b[0m                                 Traceback (most recent call last)",
      "\u001b[1;32m<ipython-input-55-50cc05243def>\u001b[0m in \u001b[0;36m<module>\u001b[1;34m\u001b[0m\n\u001b[1;32m----> 1\u001b[1;33m \u001b[0mimg_path_list\u001b[0m\u001b[1;33m,\u001b[0m \u001b[0mdata_list\u001b[0m\u001b[1;33m,\u001b[0m \u001b[0manno_list\u001b[0m\u001b[1;33m,\u001b[0m \u001b[0mlabel_list\u001b[0m \u001b[1;33m=\u001b[0m \u001b[0mlistCleaning\u001b[0m\u001b[1;33m(\u001b[0m\u001b[0mimg_list\u001b[0m\u001b[1;33m,\u001b[0m \u001b[0mimg_path\u001b[0m\u001b[1;33m+\u001b[0m\u001b[0mdataType\u001b[0m\u001b[1;33m+\u001b[0m\u001b[1;34m'/'\u001b[0m\u001b[1;33m)\u001b[0m\u001b[1;33m\u001b[0m\u001b[1;33m\u001b[0m\u001b[0m\n\u001b[0m",
      "\u001b[1;32m<ipython-input-48-283eed50ea1c>\u001b[0m in \u001b[0;36mlistCleaning\u001b[1;34m(img_list, path)\u001b[0m\n\u001b[0;32m     11\u001b[0m         \u001b[0mdata_list\u001b[0m\u001b[1;33m.\u001b[0m\u001b[0mappend\u001b[0m\u001b[1;33m(\u001b[0m\u001b[0mdata\u001b[0m\u001b[1;33m)\u001b[0m\u001b[1;33m\u001b[0m\u001b[1;33m\u001b[0m\u001b[0m\n\u001b[0;32m     12\u001b[0m \u001b[1;33m\u001b[0m\u001b[0m\n\u001b[1;32m---> 13\u001b[1;33m         \u001b[0mimg_path\u001b[0m \u001b[1;33m=\u001b[0m \u001b[0mpath\u001b[0m \u001b[1;33m+\u001b[0m \u001b[0mimg\u001b[0m\u001b[1;33m\u001b[0m\u001b[1;33m\u001b[0m\u001b[0m\n\u001b[0m\u001b[0;32m     14\u001b[0m         \u001b[0mimg_path_list\u001b[0m\u001b[1;33m.\u001b[0m\u001b[0mappend\u001b[0m\u001b[1;33m(\u001b[0m\u001b[0mimg_path\u001b[0m\u001b[1;33m)\u001b[0m\u001b[1;33m\u001b[0m\u001b[1;33m\u001b[0m\u001b[0m\n\u001b[0;32m     15\u001b[0m \u001b[1;33m\u001b[0m\u001b[0m\n",
      "\u001b[1;31mTypeError\u001b[0m: can only concatenate str (not \"list\") to str"
     ]
    }
   ],
   "source": [
    "img_path_list, data_list, anno_list, label_list = listCleaning(img_list, img_path+dataType+'/')"
   ]
  },
  {
   "cell_type": "code",
   "execution_count": 36,
   "id": "b3f1aa01",
   "metadata": {},
   "outputs": [],
   "source": [
    "saveList(dataType+'.txt', img_list)"
   ]
  },
  {
   "cell_type": "code",
   "execution_count": null,
   "id": "702ce5ee",
   "metadata": {},
   "outputs": [],
   "source": []
  },
  {
   "cell_type": "markdown",
   "id": "f14a0113",
   "metadata": {},
   "source": [
    "# Load Json Data"
   ]
  },
  {
   "cell_type": "code",
   "execution_count": 1,
   "id": "728fec28",
   "metadata": {},
   "outputs": [],
   "source": [
    "def loadJsonData(fileName):\n",
    "    with open(fileName, 'r', encoding='UTF8') as f:\n",
    "        json_data = json.load(f)\n",
    "    print(json.dumps(json_data, indent='\\t'))\n",
    "    \n",
    "    return json_data"
   ]
  },
  {
   "cell_type": "code",
   "execution_count": 13,
   "id": "4893ca9b",
   "metadata": {},
   "outputs": [
    {
     "name": "stdout",
     "output_type": "stream",
     "text": [
      "{\n",
      "\t\"item2\": {\n",
      "\t\t\"segmentation\": [\n",
      "\t\t\t[\n",
      "\t\t\t\t460,\n",
      "\t\t\t\t438,\n",
      "\t\t\t\t374,\n",
      "\t\t\t\t484,\n",
      "\t\t\t\t251,\n",
      "\t\t\t\t520,\n",
      "\t\t\t\t269,\n",
      "\t\t\t\t586,\n",
      "\t\t\t\t298,\n",
      "\t\t\t\t622,\n",
      "\t\t\t\t410,\n",
      "\t\t\t\t623,\n",
      "\t\t\t\t410,\n",
      "\t\t\t\t567,\n",
      "\t\t\t\t413,\n",
      "\t\t\t\t591,\n",
      "\t\t\t\t420,\n",
      "\t\t\t\t623,\n",
      "\t\t\t\t465,\n",
      "\t\t\t\t622,\n",
      "\t\t\t\t456,\n",
      "\t\t\t\t561,\n",
      "\t\t\t\t466,\n",
      "\t\t\t\t504,\n",
      "\t\t\t\t460,\n",
      "\t\t\t\t438\n",
      "\t\t\t],\n",
      "\t\t\t[\n",
      "\t\t\t\t374,\n",
      "\t\t\t\t484,\n",
      "\t\t\t\t251,\n",
      "\t\t\t\t520,\n",
      "\t\t\t\t269,\n",
      "\t\t\t\t586,\n",
      "\t\t\t\t298,\n",
      "\t\t\t\t622,\n",
      "\t\t\t\t410,\n",
      "\t\t\t\t623,\n",
      "\t\t\t\t410,\n",
      "\t\t\t\t567,\n",
      "\t\t\t\t374,\n",
      "\t\t\t\t484\n",
      "\t\t\t],\n",
      "\t\t\t[\n",
      "\t\t\t\t460,\n",
      "\t\t\t\t438,\n",
      "\t\t\t\t374,\n",
      "\t\t\t\t484,\n",
      "\t\t\t\t410,\n",
      "\t\t\t\t567,\n",
      "\t\t\t\t413,\n",
      "\t\t\t\t591,\n",
      "\t\t\t\t420,\n",
      "\t\t\t\t623,\n",
      "\t\t\t\t465,\n",
      "\t\t\t\t622,\n",
      "\t\t\t\t456,\n",
      "\t\t\t\t561,\n",
      "\t\t\t\t466,\n",
      "\t\t\t\t504,\n",
      "\t\t\t\t460,\n",
      "\t\t\t\t438\n",
      "\t\t\t]\n",
      "\t\t],\n",
      "\t\t\"scale\": 2,\n",
      "\t\t\"viewpoint\": 2,\n",
      "\t\t\"zoom_in\": 3,\n",
      "\t\t\"landmarks\": [\n",
      "\t\t\t251,\n",
      "\t\t\t520,\n",
      "\t\t\t1,\n",
      "\t\t\t374,\n",
      "\t\t\t484,\n",
      "\t\t\t1,\n",
      "\t\t\t460,\n",
      "\t\t\t438,\n",
      "\t\t\t1,\n",
      "\t\t\t269,\n",
      "\t\t\t586,\n",
      "\t\t\t1,\n",
      "\t\t\t0,\n",
      "\t\t\t0,\n",
      "\t\t\t0,\n",
      "\t\t\t0,\n",
      "\t\t\t0,\n",
      "\t\t\t0,\n",
      "\t\t\t0,\n",
      "\t\t\t0,\n",
      "\t\t\t0,\n",
      "\t\t\t0,\n",
      "\t\t\t0,\n",
      "\t\t\t0,\n",
      "\t\t\t410,\n",
      "\t\t\t567,\n",
      "\t\t\t1,\n",
      "\t\t\t413,\n",
      "\t\t\t591,\n",
      "\t\t\t2,\n",
      "\t\t\t0,\n",
      "\t\t\t0,\n",
      "\t\t\t0,\n",
      "\t\t\t0,\n",
      "\t\t\t0,\n",
      "\t\t\t0,\n",
      "\t\t\t456,\n",
      "\t\t\t561,\n",
      "\t\t\t2,\n",
      "\t\t\t0,\n",
      "\t\t\t0,\n",
      "\t\t\t0\n",
      "\t\t],\n",
      "\t\t\"style\": 0,\n",
      "\t\t\"bounding_box\": [\n",
      "\t\t\t249,\n",
      "\t\t\t423,\n",
      "\t\t\t466,\n",
      "\t\t\t623\n",
      "\t\t],\n",
      "\t\t\"category_id\": 8,\n",
      "\t\t\"occlusion\": 2,\n",
      "\t\t\"category_name\": \"trousers\"\n",
      "\t},\n",
      "\t\"source\": \"user\",\n",
      "\t\"pair_id\": 1,\n",
      "\t\"item1\": {\n",
      "\t\t\"segmentation\": [\n",
      "\t\t\t[\n",
      "\t\t\t\t257,\n",
      "\t\t\t\t35,\n",
      "\t\t\t\t261,\n",
      "\t\t\t\t89,\n",
      "\t\t\t\t228,\n",
      "\t\t\t\t123,\n",
      "\t\t\t\t137,\n",
      "\t\t\t\t103,\n",
      "\t\t\t\t45,\n",
      "\t\t\t\t91,\n",
      "\t\t\t\t1,\n",
      "\t\t\t\t176,\n",
      "\t\t\t\t0,\n",
      "\t\t\t\t332,\n",
      "\t\t\t\t47,\n",
      "\t\t\t\t447,\n",
      "\t\t\t\t151,\n",
      "\t\t\t\t401,\n",
      "\t\t\t\t141,\n",
      "\t\t\t\t366,\n",
      "\t\t\t\t129,\n",
      "\t\t\t\t328,\n",
      "\t\t\t\t141,\n",
      "\t\t\t\t364,\n",
      "\t\t\t\t219,\n",
      "\t\t\t\t485,\n",
      "\t\t\t\t274,\n",
      "\t\t\t\t603,\n",
      "\t\t\t\t401,\n",
      "\t\t\t\t590,\n",
      "\t\t\t\t467,\n",
      "\t\t\t\t502,\n",
      "\t\t\t\t442,\n",
      "\t\t\t\t336,\n",
      "\t\t\t\t369,\n",
      "\t\t\t\t195,\n",
      "\t\t\t\t348,\n",
      "\t\t\t\t138,\n",
      "\t\t\t\t363,\n",
      "\t\t\t\t163,\n",
      "\t\t\t\t372,\n",
      "\t\t\t\t197,\n",
      "\t\t\t\t433,\n",
      "\t\t\t\t137,\n",
      "\t\t\t\t396,\n",
      "\t\t\t\t92,\n",
      "\t\t\t\t341,\n",
      "\t\t\t\t35,\n",
      "\t\t\t\t257,\n",
      "\t\t\t\t35\n",
      "\t\t\t],\n",
      "\t\t\t[\n",
      "\t\t\t\t1,\n",
      "\t\t\t\t176,\n",
      "\t\t\t\t0,\n",
      "\t\t\t\t332,\n",
      "\t\t\t\t47,\n",
      "\t\t\t\t447,\n",
      "\t\t\t\t151,\n",
      "\t\t\t\t401,\n",
      "\t\t\t\t141,\n",
      "\t\t\t\t366,\n",
      "\t\t\t\t129,\n",
      "\t\t\t\t328,\n",
      "\t\t\t\t1,\n",
      "\t\t\t\t176\n",
      "\t\t\t],\n",
      "\t\t\t[\n",
      "\t\t\t\t348,\n",
      "\t\t\t\t138,\n",
      "\t\t\t\t363,\n",
      "\t\t\t\t163,\n",
      "\t\t\t\t372,\n",
      "\t\t\t\t197,\n",
      "\t\t\t\t433,\n",
      "\t\t\t\t137,\n",
      "\t\t\t\t396,\n",
      "\t\t\t\t92,\n",
      "\t\t\t\t341,\n",
      "\t\t\t\t35,\n",
      "\t\t\t\t348,\n",
      "\t\t\t\t138\n",
      "\t\t\t]\n",
      "\t\t],\n",
      "\t\t\"scale\": 3,\n",
      "\t\t\"viewpoint\": 2,\n",
      "\t\t\"zoom_in\": 2,\n",
      "\t\t\"landmarks\": [\n",
      "\t\t\t182,\n",
      "\t\t\t54,\n",
      "\t\t\t1,\n",
      "\t\t\t45,\n",
      "\t\t\t91,\n",
      "\t\t\t1,\n",
      "\t\t\t137,\n",
      "\t\t\t103,\n",
      "\t\t\t1,\n",
      "\t\t\t228,\n",
      "\t\t\t123,\n",
      "\t\t\t1,\n",
      "\t\t\t261,\n",
      "\t\t\t89,\n",
      "\t\t\t1,\n",
      "\t\t\t257,\n",
      "\t\t\t35,\n",
      "\t\t\t1,\n",
      "\t\t\t0,\n",
      "\t\t\t0,\n",
      "\t\t\t0,\n",
      "\t\t\t0,\n",
      "\t\t\t0,\n",
      "\t\t\t0,\n",
      "\t\t\t47,\n",
      "\t\t\t447,\n",
      "\t\t\t2,\n",
      "\t\t\t151,\n",
      "\t\t\t401,\n",
      "\t\t\t2,\n",
      "\t\t\t141,\n",
      "\t\t\t366,\n",
      "\t\t\t2,\n",
      "\t\t\t129,\n",
      "\t\t\t328,\n",
      "\t\t\t2,\n",
      "\t\t\t141,\n",
      "\t\t\t364,\n",
      "\t\t\t2,\n",
      "\t\t\t219,\n",
      "\t\t\t485,\n",
      "\t\t\t2,\n",
      "\t\t\t274,\n",
      "\t\t\t603,\n",
      "\t\t\t2,\n",
      "\t\t\t401,\n",
      "\t\t\t590,\n",
      "\t\t\t2,\n",
      "\t\t\t0,\n",
      "\t\t\t0,\n",
      "\t\t\t0,\n",
      "\t\t\t442,\n",
      "\t\t\t336,\n",
      "\t\t\t2,\n",
      "\t\t\t369,\n",
      "\t\t\t195,\n",
      "\t\t\t1,\n",
      "\t\t\t348,\n",
      "\t\t\t138,\n",
      "\t\t\t1,\n",
      "\t\t\t363,\n",
      "\t\t\t163,\n",
      "\t\t\t1,\n",
      "\t\t\t372,\n",
      "\t\t\t197,\n",
      "\t\t\t1,\n",
      "\t\t\t433,\n",
      "\t\t\t137,\n",
      "\t\t\t2,\n",
      "\t\t\t396,\n",
      "\t\t\t92,\n",
      "\t\t\t2,\n",
      "\t\t\t341,\n",
      "\t\t\t35,\n",
      "\t\t\t1\n",
      "\t\t],\n",
      "\t\t\"style\": 1,\n",
      "\t\t\"bounding_box\": [\n",
      "\t\t\t0,\n",
      "\t\t\t29,\n",
      "\t\t\t466,\n",
      "\t\t\t622\n",
      "\t\t],\n",
      "\t\t\"category_id\": 1,\n",
      "\t\t\"occlusion\": 2,\n",
      "\t\t\"category_name\": \"short sleeve top\"\n",
      "\t}\n",
      "}\n"
     ]
    }
   ],
   "source": [
    "json_data = loadJsonData('./images/train/train/annos/000001.json')"
   ]
  },
  {
   "cell_type": "code",
   "execution_count": null,
   "id": "d5f4afbf",
   "metadata": {},
   "outputs": [],
   "source": []
  },
  {
   "cell_type": "markdown",
   "id": "5d930325",
   "metadata": {},
   "source": [
    "# Parse Json Data"
   ]
  },
  {
   "cell_type": "code",
   "execution_count": 26,
   "id": "2e968c1c",
   "metadata": {},
   "outputs": [],
   "source": [
    "def parseJsonData(json_data, W=468, H=624):\n",
    "    \n",
    "    box_data = []\n",
    "    \n",
    "    number = 1\n",
    "    while True:\n",
    "        \n",
    "        if json_data.get(\"item\"+str(number)):\n",
    "            item = json_data[\"item\" + str(number)]\n",
    "            number = number + 1\n",
    "        else:\n",
    "            break\n",
    "        \n",
    "        [x1, y1, x2, y2] = item[\"bounding_box\"]\n",
    "        category_id = item[\"category_id\"]\n",
    "        \n",
    "        x = (x1+x2)/2\n",
    "        y = (y1+y2)/2\n",
    "        w = x2-x1\n",
    "        h = y2-y1\n",
    "        \n",
    "        box_data.append([category_id, x/W, y/H, w/W, h/H])\n",
    "    \n",
    "    return box_data"
   ]
  },
  {
   "cell_type": "code",
   "execution_count": 27,
   "id": "bcb50c13",
   "metadata": {},
   "outputs": [
    {
     "data": {
      "text/plain": [
       "[[1,\n",
       "  0.49786324786324787,\n",
       "  0.5216346153846154,\n",
       "  0.9957264957264957,\n",
       "  0.9503205128205128],\n",
       " [8,\n",
       "  0.7638888888888888,\n",
       "  0.8381410256410257,\n",
       "  0.4636752136752137,\n",
       "  0.32051282051282054]]"
      ]
     },
     "execution_count": 27,
     "metadata": {},
     "output_type": "execute_result"
    }
   ],
   "source": [
    "parseJsonData(json_data)"
   ]
  },
  {
   "cell_type": "code",
   "execution_count": null,
   "id": "ede8c178",
   "metadata": {},
   "outputs": [],
   "source": []
  },
  {
   "cell_type": "markdown",
   "id": "c2b9c9dd",
   "metadata": {},
   "source": [
    "# Get List"
   ]
  },
  {
   "cell_type": "code",
   "execution_count": 32,
   "id": "b22058ab",
   "metadata": {},
   "outputs": [],
   "source": [
    "def getList(dataType):\n",
    "    \n",
    "    img_file_list = readDirList('./images/practice')\n",
    "    \n",
    "    img_list, annos_list, labels_list = listCleaning(img_file_list, dataType)\n",
    "    \n",
    "    print(img_file_list)"
   ]
  },
  {
   "cell_type": "code",
   "execution_count": 31,
   "id": "847e4e24",
   "metadata": {},
   "outputs": [
    {
     "name": "stdout",
     "output_type": "stream",
     "text": [
      "['000001.jpg', '000002.jpg', '000003.jpg', '000004.jpg', '000005.jpg', '000006.jpg', '000007.jpg', '000008.jpg', '000009.jpg', '000010.jpg']\n"
     ]
    }
   ],
   "source": [
    "getList('practice')"
   ]
  },
  {
   "cell_type": "code",
   "execution_count": null,
   "id": "359b1f69",
   "metadata": {},
   "outputs": [],
   "source": []
  },
  {
   "cell_type": "code",
   "execution_count": null,
   "id": "887077d6",
   "metadata": {},
   "outputs": [],
   "source": []
  },
  {
   "cell_type": "code",
   "execution_count": null,
   "id": "247c3eba",
   "metadata": {},
   "outputs": [],
   "source": []
  },
  {
   "cell_type": "code",
   "execution_count": null,
   "id": "bcc9eba6",
   "metadata": {},
   "outputs": [],
   "source": []
  },
  {
   "cell_type": "markdown",
   "id": "5f44041b",
   "metadata": {},
   "source": [
    "# Final"
   ]
  },
  {
   "cell_type": "code",
   "execution_count": 10,
   "id": "cb7dda2b",
   "metadata": {},
   "outputs": [
    {
     "ename": "NameError",
     "evalue": "name 'dataCleaning' is not defined",
     "output_type": "error",
     "traceback": [
      "\u001b[1;31m---------------------------------------------------------------------------\u001b[0m",
      "\u001b[1;31mNameError\u001b[0m                                 Traceback (most recent call last)",
      "\u001b[1;32m<ipython-input-10-c5c8b6dba6f5>\u001b[0m in \u001b[0;36m<module>\u001b[1;34m\u001b[0m\n\u001b[1;32m----> 1\u001b[1;33m \u001b[0mdataCleaning\u001b[0m\u001b[1;33m(\u001b[0m\u001b[1;34m'train'\u001b[0m\u001b[1;33m)\u001b[0m\u001b[1;33m\u001b[0m\u001b[1;33m\u001b[0m\u001b[0m\n\u001b[0m\u001b[0;32m      2\u001b[0m \u001b[0mdataCleaning\u001b[0m\u001b[1;33m(\u001b[0m\u001b[1;34m'test'\u001b[0m\u001b[1;33m)\u001b[0m\u001b[1;33m\u001b[0m\u001b[1;33m\u001b[0m\u001b[0m\n\u001b[0;32m      3\u001b[0m \u001b[0mdataCleaning\u001b[0m\u001b[1;33m(\u001b[0m\u001b[1;34m'val'\u001b[0m\u001b[1;33m)\u001b[0m\u001b[1;33m\u001b[0m\u001b[1;33m\u001b[0m\u001b[0m\n",
      "\u001b[1;31mNameError\u001b[0m: name 'dataCleaning' is not defined"
     ]
    }
   ],
   "source": [
    "dataCleaning('train')\n",
    "dataCleaning('test')\n",
    "dataCleaning('val')"
   ]
  },
  {
   "cell_type": "code",
   "execution_count": null,
   "id": "df6b52dc",
   "metadata": {},
   "outputs": [],
   "source": []
  }
 ],
 "metadata": {
  "kernelspec": {
   "display_name": "Python 3",
   "language": "python",
   "name": "python3"
  },
  "language_info": {
   "codemirror_mode": {
    "name": "ipython",
    "version": 3
   },
   "file_extension": ".py",
   "mimetype": "text/x-python",
   "name": "python",
   "nbconvert_exporter": "python",
   "pygments_lexer": "ipython3",
   "version": "3.8.8"
  }
 },
 "nbformat": 4,
 "nbformat_minor": 5
}
