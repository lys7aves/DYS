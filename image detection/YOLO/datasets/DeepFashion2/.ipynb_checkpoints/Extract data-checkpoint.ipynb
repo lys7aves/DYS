{
 "cells": [
  {
   "cell_type": "code",
   "execution_count": 2,
   "metadata": {},
   "outputs": [],
   "source": [
    "import os\n",
    "import shutil"
   ]
  },
  {
   "cell_type": "code",
   "execution_count": null,
   "metadata": {},
   "outputs": [],
   "source": []
  },
  {
   "cell_type": "markdown",
   "metadata": {},
   "source": [
    "# Read Directory List"
   ]
  },
  {
   "cell_type": "code",
   "execution_count": 3,
   "metadata": {},
   "outputs": [],
   "source": [
    "def readDirList(path_dir='.'):\n",
    "    file_list = os.listdir(path_dir)\n",
    "    \n",
    "    return file_list"
   ]
  },
  {
   "cell_type": "code",
   "execution_count": 29,
   "metadata": {},
   "outputs": [
    {
     "name": "stdout",
     "output_type": "stream",
     "text": [
      "['000001.txt', '000002.txt', '000003.txt', '000004.txt', '000005.txt', '000006.txt', '000007.txt', '000008.txt', '000009.txt', '000010.txt']\n"
     ]
    }
   ],
   "source": [
    "label_list = readDirList('./labels/practice/')\n",
    "print(label_list)"
   ]
  },
  {
   "cell_type": "code",
   "execution_count": null,
   "metadata": {},
   "outputs": [],
   "source": []
  },
  {
   "cell_type": "markdown",
   "metadata": {},
   "source": [
    "# Get Name List"
   ]
  },
  {
   "cell_type": "code",
   "execution_count": 4,
   "metadata": {},
   "outputs": [],
   "source": [
    "def getNameList(data_list):\n",
    "    name_list = []\n",
    "    for data in data_list:\n",
    "        name_list.append(data.split('.')[0])\n",
    "    \n",
    "    return name_list"
   ]
  },
  {
   "cell_type": "code",
   "execution_count": 9,
   "metadata": {},
   "outputs": [
    {
     "name": "stdout",
     "output_type": "stream",
     "text": [
      "['000001', '000002', '000003', '000004', '000005', '000006', '000007', '000008', '000009', '000010']\n"
     ]
    }
   ],
   "source": [
    "name_list = getNameList(label_list)\n",
    "print(name_list)"
   ]
  },
  {
   "cell_type": "code",
   "execution_count": null,
   "metadata": {},
   "outputs": [],
   "source": []
  },
  {
   "cell_type": "markdown",
   "metadata": {},
   "source": [
    "# Save List to Text File"
   ]
  },
  {
   "cell_type": "code",
   "execution_count": 5,
   "metadata": {},
   "outputs": [],
   "source": [
    "def saveList(fileName, data_list):\n",
    "    f = open(fileName, 'w')\n",
    "    \n",
    "    for data in data_list:\n",
    "        f.write(data)\n",
    "        f.write('\\n')\n",
    "    \n",
    "    f.close()"
   ]
  },
  {
   "cell_type": "code",
   "execution_count": null,
   "metadata": {},
   "outputs": [],
   "source": []
  },
  {
   "cell_type": "markdown",
   "metadata": {},
   "source": [
    "# Check Label Data"
   ]
  },
  {
   "cell_type": "code",
   "execution_count": 6,
   "metadata": {},
   "outputs": [],
   "source": [
    "def checkLabelData(fileName, class_num):\n",
    "    f = open(fileName, 'r')\n",
    "    \n",
    "    flag = True\n",
    "    while True:\n",
    "        line = f.readline()\n",
    "        if not line: break\n",
    "        \n",
    "        split = line.split(' ')\n",
    "        \n",
    "        if int(split[0]) >= class_num:\n",
    "            flag = False\n",
    "            break\n",
    "    \n",
    "    f.close()\n",
    "    \n",
    "    return flag"
   ]
  },
  {
   "cell_type": "code",
   "execution_count": 24,
   "metadata": {},
   "outputs": [
    {
     "data": {
      "text/plain": [
       "False"
      ]
     },
     "execution_count": 24,
     "metadata": {},
     "output_type": "execute_result"
    }
   ],
   "source": [
    "checkLabelData('./labels/train/000001.txt', 7)"
   ]
  },
  {
   "cell_type": "code",
   "execution_count": null,
   "metadata": {},
   "outputs": [],
   "source": []
  },
  {
   "cell_type": "markdown",
   "metadata": {},
   "source": [
    "# Copy Data"
   ]
  },
  {
   "cell_type": "code",
   "execution_count": 7,
   "metadata": {},
   "outputs": [],
   "source": [
    "def copyData(src, dest, name):\n",
    "    src_img = './images/' + src +  '/' + name + '.jpg'\n",
    "    src_label = './labels/' + src + '/' + name + '.txt'\n",
    "    dest_img = './images/' + dest +'/' + name + '.jpg'\n",
    "    dest_label = './labels/' + dest +'/' + name + '.txt'\n",
    "    \n",
    "    shutil.copy(src_img, dest_img)\n",
    "    shutil.copy(src_label, dest_label)\n",
    "    "
   ]
  },
  {
   "cell_type": "code",
   "execution_count": null,
   "metadata": {},
   "outputs": [],
   "source": []
  },
  {
   "cell_type": "markdown",
   "metadata": {},
   "source": [
    "# Extract Data"
   ]
  },
  {
   "cell_type": "code",
   "execution_count": 8,
   "metadata": {},
   "outputs": [],
   "source": [
    "def extractData(class_num, data_num, src, dest):\n",
    "    src_img = './images/' + src + '/'\n",
    "    src_label = './labels/' + src + '/'\n",
    "    dest_img = './images/' + dest +'/'\n",
    "    dest_label = './labels/' + dest +'/'\n",
    "    dest_text = dest+'.txt'\n",
    "    \n",
    "    label_list = readDirList(src_label)\n",
    "    name_list = getNameList(label_list)\n",
    "    \n",
    "    img_list = []\n",
    "    count = 0\n",
    "    class_count = [0] * class_num\n",
    "    for name in name_list:\n",
    "        if checkLabelData(src_label+name+'.txt', class_num):\n",
    "            copyData(src, dest, name)\n",
    "            img_list.append(dest_img+name+'.jpg')\n",
    "            count = count+1\n",
    "            if count == data_num:\n",
    "                break\n",
    "    \n",
    "    saveList(dest_text, img_list)"
   ]
  },
  {
   "cell_type": "code",
   "execution_count": null,
   "metadata": {},
   "outputs": [],
   "source": []
  },
  {
   "cell_type": "code",
   "execution_count": 13,
   "metadata": {},
   "outputs": [],
   "source": [
    "extractData(2, 200, 'val', 'val_2class_200data')"
   ]
  },
  {
   "cell_type": "code",
   "execution_count": null,
   "metadata": {},
   "outputs": [],
   "source": []
  },
  {
   "cell_type": "code",
   "execution_count": null,
   "metadata": {},
   "outputs": [],
   "source": []
  }
 ],
 "metadata": {
  "kernelspec": {
   "display_name": "Python 3",
   "language": "python",
   "name": "python3"
  },
  "language_info": {
   "codemirror_mode": {
    "name": "ipython",
    "version": 3
   },
   "file_extension": ".py",
   "mimetype": "text/x-python",
   "name": "python",
   "nbconvert_exporter": "python",
   "pygments_lexer": "ipython3",
   "version": "3.8.5"
  }
 },
 "nbformat": 4,
 "nbformat_minor": 5
}
