{
 "cells": [
  {
   "cell_type": "code",
   "execution_count": 1,
   "id": "f99dbc72",
   "metadata": {},
   "outputs": [],
   "source": [
    "import os\n",
    "import shutil"
   ]
  },
  {
   "cell_type": "code",
   "execution_count": null,
   "id": "244ed8f8",
   "metadata": {},
   "outputs": [],
   "source": []
  },
  {
   "cell_type": "markdown",
   "id": "2c04ad86",
   "metadata": {},
   "source": [
    "# Read Directory List"
   ]
  },
  {
   "cell_type": "code",
   "execution_count": 2,
   "id": "87c8e178",
   "metadata": {},
   "outputs": [],
   "source": [
    "def readDirList(path_dir='.'):\n",
    "    file_list = os.listdir(path_dir)\n",
    "    \n",
    "    return file_list"
   ]
  },
  {
   "cell_type": "code",
   "execution_count": 3,
   "id": "64ba6ee9",
   "metadata": {},
   "outputs": [
    {
     "name": "stdout",
     "output_type": "stream",
     "text": [
      "['000001.txt', '000002.txt', '000003.txt', '000004.txt', '000005.txt', '000006.txt', '000007.txt', '000008.txt', '000009.txt', '000010.txt']\n"
     ]
    }
   ],
   "source": [
    "label_list = readDirList('./labels/practice/')\n",
    "print(label_list)"
   ]
  },
  {
   "cell_type": "code",
   "execution_count": null,
   "id": "6e3bf718",
   "metadata": {},
   "outputs": [],
   "source": []
  },
  {
   "cell_type": "markdown",
   "id": "10fcd945",
   "metadata": {},
   "source": [
    "# Get Name List"
   ]
  },
  {
   "cell_type": "code",
   "execution_count": 4,
   "id": "695f9978",
   "metadata": {},
   "outputs": [],
   "source": [
    "def getNameList(data_list):\n",
    "    name_list = []\n",
    "    for data in data_list:\n",
    "        name_list.append(data.split('.')[0])\n",
    "    \n",
    "    return name_list"
   ]
  },
  {
   "cell_type": "code",
   "execution_count": 9,
   "id": "c9f8a658",
   "metadata": {},
   "outputs": [
    {
     "name": "stdout",
     "output_type": "stream",
     "text": [
      "['000001', '000002', '000003', '000004', '000005', '000006', '000007', '000008', '000009', '000010']\n"
     ]
    }
   ],
   "source": [
    "name_list = getNameList(label_list)\n",
    "print(name_list)"
   ]
  },
  {
   "cell_type": "code",
   "execution_count": null,
   "id": "87113057",
   "metadata": {},
   "outputs": [],
   "source": []
  },
  {
   "cell_type": "markdown",
   "id": "f54a43a2",
   "metadata": {},
   "source": [
    "# Save List to Text File"
   ]
  },
  {
   "cell_type": "code",
   "execution_count": 5,
   "id": "181a3f06",
   "metadata": {},
   "outputs": [],
   "source": [
    "def saveList(fileName, data_list):\n",
    "    #path, name = os.path.split(fileName)\n",
    "    #if not os.path.exists(path):\n",
    "    #    os.makedirs(path)\n",
    "        \n",
    "    f = open(fileName, 'w')\n",
    "    \n",
    "    for data in data_list:\n",
    "        f.write(data)\n",
    "        f.write('\\n')\n",
    "    \n",
    "    f.close()"
   ]
  },
  {
   "cell_type": "code",
   "execution_count": null,
   "id": "47332393",
   "metadata": {},
   "outputs": [],
   "source": []
  },
  {
   "cell_type": "markdown",
   "id": "023fcfb1",
   "metadata": {},
   "source": [
    "# Check Label Data"
   ]
  },
  {
   "cell_type": "code",
   "execution_count": 6,
   "id": "f1d74e58",
   "metadata": {},
   "outputs": [],
   "source": [
    "def checkLabelData(fileName, class_num):\n",
    "    f = open(fileName, 'r')\n",
    "    \n",
    "    flag = True\n",
    "    while True:\n",
    "        line = f.readline()\n",
    "        if not line: break\n",
    "        \n",
    "        split = line.split(' ')\n",
    "        \n",
    "        if int(split[0]) >= class_num:\n",
    "            flag = False\n",
    "            break\n",
    "    \n",
    "    f.close()\n",
    "    \n",
    "    return flag"
   ]
  },
  {
   "cell_type": "code",
   "execution_count": 24,
   "id": "126a02c5",
   "metadata": {},
   "outputs": [
    {
     "data": {
      "text/plain": [
       "False"
      ]
     },
     "execution_count": 24,
     "metadata": {},
     "output_type": "execute_result"
    }
   ],
   "source": [
    "checkLabelData('./labels/train/000001.txt', 7)"
   ]
  },
  {
   "cell_type": "code",
   "execution_count": null,
   "id": "8d108d8b",
   "metadata": {},
   "outputs": [],
   "source": []
  },
  {
   "cell_type": "markdown",
   "id": "73f93449",
   "metadata": {},
   "source": [
    "# Copy Data"
   ]
  },
  {
   "cell_type": "code",
   "execution_count": 7,
   "id": "8c9854f1",
   "metadata": {},
   "outputs": [],
   "source": [
    "def copyData(src, dest, name):\n",
    "    src_img = './images/' + src +  '/' + name + '.jpg'\n",
    "    src_label = './labels/' + src + '/' + name + '.txt'\n",
    "    dest_img = './images/' + dest +'/' + name + '.jpg'\n",
    "    dest_label = './labels/' + dest +'/' + name + '.txt'\n",
    "    \n",
    "    if not os.path.exists('./images/'+dest+'/'):\n",
    "        os.makedirs('./images/'+dest+'/')\n",
    "    if not os.path.exists('./labels/'+dest+'/'):\n",
    "        os.makedirs('./labels/'+dest+'/')\n",
    "    \n",
    "    shutil.copy(src_img, dest_img)\n",
    "    shutil.copy(src_label, dest_label)\n",
    "    "
   ]
  },
  {
   "cell_type": "code",
   "execution_count": null,
   "id": "3c169622",
   "metadata": {},
   "outputs": [],
   "source": []
  },
  {
   "cell_type": "markdown",
   "id": "0d263e23",
   "metadata": {},
   "source": [
    "# Extract Data"
   ]
  },
  {
   "cell_type": "code",
   "execution_count": 8,
   "id": "3c21e542",
   "metadata": {},
   "outputs": [],
   "source": [
    "def extractData(class_num, data_num, src, dest):\n",
    "    src_img = './images/' + src + '/'\n",
    "    src_label = './labels/' + src + '/'\n",
    "    dest_img = './images/' + dest +'/'\n",
    "    dest_label = './labels/' + dest +'/'\n",
    "    dest_text = dest+'.txt'\n",
    "    \n",
    "    label_list = readDirList(src_label)\n",
    "    name_list = getNameList(label_list)\n",
    "    \n",
    "    img_list = []\n",
    "    count = 0\n",
    "    class_count = [0] * class_num\n",
    "    for name in name_list:\n",
    "        if checkLabelData(src_label+name+'.txt', class_num):\n",
    "            copyData(src, dest, name)\n",
    "            img_list.append(dest_img+name+'.jpg')\n",
    "            count = count+1\n",
    "            if count == data_num:\n",
    "                break\n",
    "    \n",
    "    saveList(dest_text, img_list)"
   ]
  },
  {
   "cell_type": "code",
   "execution_count": null,
   "id": "31c50e36",
   "metadata": {},
   "outputs": [],
   "source": []
  },
  {
   "cell_type": "code",
   "execution_count": 9,
   "id": "79ce53c1",
   "metadata": {},
   "outputs": [],
   "source": [
    "extractData(2, 80, 'train_3type', 'train_2type_80data')\n",
    "extractData(2, 20, 'val_3type', 'val_2type_20data')\n",
    "extractData(2, 800, 'train_3type', 'train_2type_800data')\n",
    "extractData(2, 200, 'val_3type', 'val_2type_200data')\n",
    "extractData(2, 1000000, 'train_3type', 'train_2type')\n",
    "extractData(2, 1000000, 'val_3type', 'val_2type')"
   ]
  },
  {
   "cell_type": "code",
   "execution_count": null,
   "id": "a9bb9f13",
   "metadata": {},
   "outputs": [],
   "source": []
  },
  {
   "cell_type": "code",
   "execution_count": null,
   "id": "8b497656",
   "metadata": {},
   "outputs": [],
   "source": []
  }
 ],
 "metadata": {
  "kernelspec": {
   "display_name": "Python 3 (ipykernel)",
   "language": "python",
   "name": "python3"
  },
  "language_info": {
   "codemirror_mode": {
    "name": "ipython",
    "version": 3
   },
   "file_extension": ".py",
   "mimetype": "text/x-python",
   "name": "python",
   "nbconvert_exporter": "python",
   "pygments_lexer": "ipython3",
   "version": "3.8.8"
  }
 },
 "nbformat": 4,
 "nbformat_minor": 5
}
