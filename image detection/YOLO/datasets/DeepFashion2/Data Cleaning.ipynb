{
 "cells": [
  {
   "cell_type": "code",
   "execution_count": 1,
   "id": "00621ec0",
   "metadata": {},
   "outputs": [],
   "source": [
    "import os\n",
    "import json\n",
    "from PIL import Image\n",
    "import numpy as np"
   ]
  },
  {
   "cell_type": "code",
   "execution_count": null,
   "id": "4c90f517",
   "metadata": {},
   "outputs": [],
   "source": []
  },
  {
   "cell_type": "markdown",
   "id": "e7f92d5f",
   "metadata": {},
   "source": [
    "# Read Directory List"
   ]
  },
  {
   "cell_type": "code",
   "execution_count": 2,
   "id": "19e1e3f4",
   "metadata": {},
   "outputs": [],
   "source": [
    "def readDirList(path_dir='.'):\n",
    "    file_list = os.listdir(path_dir)\n",
    "    \n",
    "    return file_list"
   ]
  },
  {
   "cell_type": "code",
   "execution_count": 38,
   "id": "dd4fdf18",
   "metadata": {},
   "outputs": [],
   "source": [
    "img_list = readDirList('./images/practice')"
   ]
  },
  {
   "cell_type": "code",
   "execution_count": 39,
   "id": "98b2d3a9",
   "metadata": {},
   "outputs": [
    {
     "name": "stdout",
     "output_type": "stream",
     "text": [
      "['000001.jpg', '000002.jpg', '000003.jpg', '000004.jpg', '000005.jpg', '000006.jpg', '000007.jpg', '000008.jpg', '000009.jpg', '000010.jpg']\n"
     ]
    }
   ],
   "source": [
    "print(img_list)"
   ]
  },
  {
   "cell_type": "code",
   "execution_count": null,
   "id": "02c1df74",
   "metadata": {},
   "outputs": [],
   "source": []
  },
  {
   "cell_type": "markdown",
   "id": "00c495b7",
   "metadata": {},
   "source": [
    "# List Cleaning"
   ]
  },
  {
   "cell_type": "code",
   "execution_count": 3,
   "id": "febb1b6c",
   "metadata": {},
   "outputs": [],
   "source": [
    "def listCleaning(img_file_list, dataType):\n",
    "    img_list = []\n",
    "    anno_list = []\n",
    "    label_list = []\n",
    "    \n",
    "    for img_file in img_file_list:\n",
    "        name = img_file[:-4]\n",
    "        \n",
    "        img = './images/' + dataType + '/' + name + '.jpg'\n",
    "        anno = './annos/' + dataType + '/' + name + '.json'\n",
    "        label = './labels/' + dataType + '/' + name + '.txt'\n",
    "        \n",
    "        img_list.append(img)\n",
    "        anno_list.append(anno)\n",
    "        label_list.append(label)\n",
    "    \n",
    "    return img_list, anno_list, label_list"
   ]
  },
  {
   "cell_type": "code",
   "execution_count": null,
   "id": "6f451c75",
   "metadata": {},
   "outputs": [],
   "source": []
  },
  {
   "cell_type": "markdown",
   "id": "559391c9",
   "metadata": {},
   "source": [
    "# Save List to Text File"
   ]
  },
  {
   "cell_type": "code",
   "execution_count": 4,
   "id": "0704bc99",
   "metadata": {},
   "outputs": [],
   "source": [
    "def saveList(fileName, data_list):\n",
    "    f = open(fileName, 'w')\n",
    "    \n",
    "    for data in data_list:\n",
    "        f.write(data)\n",
    "        f.write('\\n')\n",
    "    \n",
    "    f.close()"
   ]
  },
  {
   "cell_type": "code",
   "execution_count": 5,
   "id": "c70b9a2d",
   "metadata": {},
   "outputs": [],
   "source": [
    "def saveList2(fileName, data_list):\n",
    "    f = open(fileName, 'w')\n",
    "    \n",
    "    for data in data_list:\n",
    "        for d in data:\n",
    "            f.write(str(d))\n",
    "            f.write(' ')\n",
    "        f.write('\\n')\n",
    "    \n",
    "    f.close()"
   ]
  },
  {
   "cell_type": "code",
   "execution_count": null,
   "id": "41c8d4f9",
   "metadata": {},
   "outputs": [],
   "source": []
  },
  {
   "cell_type": "code",
   "execution_count": null,
   "id": "5f72b69f",
   "metadata": {},
   "outputs": [],
   "source": []
  },
  {
   "cell_type": "code",
   "execution_count": null,
   "id": "9d9136c2",
   "metadata": {},
   "outputs": [],
   "source": []
  },
  {
   "cell_type": "markdown",
   "id": "3df33814",
   "metadata": {},
   "source": [
    "# Load Json Data"
   ]
  },
  {
   "cell_type": "code",
   "execution_count": 6,
   "id": "d6c1db58",
   "metadata": {},
   "outputs": [],
   "source": [
    "def loadJsonData(fileName):\n",
    "    with open(fileName, 'r', encoding='UTF8') as f:\n",
    "        json_data = json.load(f)\n",
    "    \n",
    "    return json_data"
   ]
  },
  {
   "cell_type": "code",
   "execution_count": 64,
   "id": "928af6aa",
   "metadata": {},
   "outputs": [],
   "source": [
    "json_data = loadJsonData('./images/train/train/annos/000001.json')"
   ]
  },
  {
   "cell_type": "code",
   "execution_count": null,
   "id": "38371ad8",
   "metadata": {},
   "outputs": [],
   "source": []
  },
  {
   "cell_type": "markdown",
   "id": "7d6d89e7",
   "metadata": {},
   "source": [
    "# Parse Json Data"
   ]
  },
  {
   "cell_type": "code",
   "execution_count": 12,
   "id": "4ceb2eea",
   "metadata": {},
   "outputs": [],
   "source": [
    "def parseJsonData(json_data, W, H):\n",
    "    \n",
    "    box_data = []\n",
    "    \n",
    "    number = 1\n",
    "    while True:\n",
    "        \n",
    "        if json_data.get(\"item\"+str(number)):\n",
    "            item = json_data[\"item\" + str(number)]\n",
    "            number = number + 1\n",
    "        else:\n",
    "            break\n",
    "        \n",
    "        [x1, y1, x2, y2] = item[\"bounding_box\"]\n",
    "        category_id = item[\"category_id\"]\n",
    "        \n",
    "        x = (x1+x2)/2\n",
    "        y = (y1+y2)/2\n",
    "        w = x2-x1\n",
    "        h = y2-y1\n",
    "        \n",
    "        box_data.append([category_id-1, x/W, y/H, w/W, h/H])\n",
    "    \n",
    "    return box_data"
   ]
  },
  {
   "cell_type": "code",
   "execution_count": 12,
   "id": "c5db3e90",
   "metadata": {},
   "outputs": [
    {
     "ename": "NameError",
     "evalue": "name 'json_data' is not defined",
     "output_type": "error",
     "traceback": [
      "\u001b[1;31m---------------------------------------------------------------------------\u001b[0m",
      "\u001b[1;31mNameError\u001b[0m                                 Traceback (most recent call last)",
      "\u001b[1;32m<ipython-input-12-537e3cddff1d>\u001b[0m in \u001b[0;36m<module>\u001b[1;34m\u001b[0m\n\u001b[1;32m----> 1\u001b[1;33m \u001b[0mparseJsonData\u001b[0m\u001b[1;33m(\u001b[0m\u001b[0mjson_data\u001b[0m\u001b[1;33m)\u001b[0m\u001b[1;33m\u001b[0m\u001b[1;33m\u001b[0m\u001b[0m\n\u001b[0m",
      "\u001b[1;31mNameError\u001b[0m: name 'json_data' is not defined"
     ]
    }
   ],
   "source": [
    "parseJsonData(json_data)"
   ]
  },
  {
   "cell_type": "code",
   "execution_count": null,
   "id": "df53759a",
   "metadata": {},
   "outputs": [],
   "source": []
  },
  {
   "cell_type": "markdown",
   "id": "a1aeaf72",
   "metadata": {},
   "source": [
    "# Get List"
   ]
  },
  {
   "cell_type": "code",
   "execution_count": 8,
   "id": "86b00e14",
   "metadata": {},
   "outputs": [],
   "source": [
    "def getList(dataType):\n",
    "    img_file_list = readDirList('./images/' + dataType)\n",
    "    \n",
    "    img_list, anno_list, label_list = listCleaning(img_file_list, dataType)\n",
    "    \n",
    "    return img_list, anno_list, label_list"
   ]
  },
  {
   "cell_type": "code",
   "execution_count": 52,
   "id": "2b99dae9",
   "metadata": {},
   "outputs": [],
   "source": [
    "img_list, anno_list, label_list = getList('practice')"
   ]
  },
  {
   "cell_type": "code",
   "execution_count": null,
   "id": "38f43bd2",
   "metadata": {},
   "outputs": [],
   "source": []
  },
  {
   "cell_type": "code",
   "execution_count": null,
   "id": "91e1e9a8",
   "metadata": {},
   "outputs": [],
   "source": []
  },
  {
   "cell_type": "code",
   "execution_count": 11,
   "id": "f4884819",
   "metadata": {},
   "outputs": [],
   "source": [
    "def dataCleaning(dataType, show_process=0):\n",
    "    #dataType = 'practice'\n",
    "\n",
    "    img_list, anno_list, label_list = getList(dataType)\n",
    "\n",
    "    saveList(dataType+'.txt', img_list)\n",
    "\n",
    "    for i in range(len(img_list)):\n",
    "        image_pil = Image.open(img_list[i])\n",
    "        image = np.array(image_pil)\n",
    "\n",
    "        H = image.shape[0]\n",
    "        W = image.shape[1]\n",
    "\n",
    "        json_data = loadJsonData(anno_list[i])\n",
    "        box_data = parseJsonData(json_data, W, H)\n",
    "\n",
    "        saveList2(label_list[i], box_data)\n",
    "        \n",
    "        if show_process > 0:\n",
    "            if (i+1)%show_process == 0:\n",
    "                print('complete ' + str(i+1) + 'th data')\n",
    "    "
   ]
  },
  {
   "cell_type": "code",
   "execution_count": null,
   "id": "909e173f",
   "metadata": {},
   "outputs": [],
   "source": []
  },
  {
   "cell_type": "markdown",
   "id": "709169be",
   "metadata": {},
   "source": [
    "# Final"
   ]
  },
  {
   "cell_type": "code",
   "execution_count": 13,
   "id": "2014a201",
   "metadata": {},
   "outputs": [
    {
     "name": "stdout",
     "output_type": "stream",
     "text": [
      "complete 1000th data\n",
      "complete 2000th data\n",
      "complete 3000th data\n",
      "complete 4000th data\n",
      "complete 5000th data\n",
      "complete 6000th data\n",
      "complete 7000th data\n",
      "complete 8000th data\n",
      "complete 9000th data\n",
      "complete 10000th data\n",
      "complete 11000th data\n",
      "complete 12000th data\n",
      "complete 13000th data\n",
      "complete 14000th data\n",
      "complete 15000th data\n",
      "complete 16000th data\n",
      "complete 17000th data\n",
      "complete 18000th data\n",
      "complete 19000th data\n",
      "complete 20000th data\n",
      "complete 21000th data\n",
      "complete 22000th data\n",
      "complete 23000th data\n",
      "complete 24000th data\n",
      "complete 25000th data\n",
      "complete 26000th data\n",
      "complete 27000th data\n",
      "complete 28000th data\n",
      "complete 29000th data\n",
      "complete 30000th data\n",
      "complete 31000th data\n",
      "complete 32000th data\n",
      "complete 33000th data\n",
      "complete 34000th data\n",
      "complete 35000th data\n",
      "complete 36000th data\n",
      "complete 37000th data\n",
      "complete 38000th data\n",
      "complete 39000th data\n",
      "complete 40000th data\n",
      "complete 41000th data\n",
      "complete 42000th data\n",
      "complete 43000th data\n",
      "complete 44000th data\n",
      "complete 45000th data\n",
      "complete 46000th data\n",
      "complete 47000th data\n",
      "complete 48000th data\n",
      "complete 49000th data\n",
      "complete 50000th data\n",
      "complete 51000th data\n",
      "complete 52000th data\n",
      "complete 53000th data\n",
      "complete 54000th data\n",
      "complete 55000th data\n",
      "complete 56000th data\n",
      "complete 57000th data\n",
      "complete 58000th data\n",
      "complete 59000th data\n",
      "complete 60000th data\n",
      "complete 61000th data\n",
      "complete 62000th data\n",
      "complete 63000th data\n",
      "complete 64000th data\n",
      "complete 65000th data\n",
      "complete 66000th data\n",
      "complete 67000th data\n",
      "complete 68000th data\n",
      "complete 69000th data\n",
      "complete 70000th data\n",
      "complete 71000th data\n",
      "complete 72000th data\n",
      "complete 73000th data\n",
      "complete 74000th data\n",
      "complete 75000th data\n",
      "complete 76000th data\n",
      "complete 77000th data\n",
      "complete 78000th data\n",
      "complete 79000th data\n",
      "complete 80000th data\n",
      "complete 81000th data\n",
      "complete 82000th data\n",
      "complete 83000th data\n",
      "complete 84000th data\n",
      "complete 85000th data\n",
      "complete 86000th data\n",
      "complete 87000th data\n",
      "complete 88000th data\n",
      "complete 89000th data\n",
      "complete 90000th data\n",
      "complete 91000th data\n",
      "complete 92000th data\n",
      "complete 93000th data\n",
      "complete 94000th data\n",
      "complete 95000th data\n",
      "complete 96000th data\n",
      "complete 97000th data\n",
      "complete 98000th data\n",
      "complete 99000th data\n",
      "complete 100000th data\n",
      "complete 101000th data\n",
      "complete 102000th data\n",
      "complete 103000th data\n",
      "complete 104000th data\n",
      "complete 105000th data\n",
      "complete 106000th data\n",
      "complete 107000th data\n",
      "complete 108000th data\n",
      "complete 109000th data\n",
      "complete 110000th data\n",
      "complete 111000th data\n",
      "complete 112000th data\n",
      "complete 113000th data\n",
      "complete 114000th data\n",
      "complete 115000th data\n",
      "complete 116000th data\n",
      "complete 117000th data\n",
      "complete 118000th data\n",
      "complete 119000th data\n",
      "complete 120000th data\n",
      "complete 121000th data\n",
      "complete 122000th data\n",
      "complete 123000th data\n",
      "complete 124000th data\n",
      "complete 125000th data\n",
      "complete 126000th data\n",
      "complete 127000th data\n",
      "complete 128000th data\n",
      "complete 129000th data\n",
      "complete 130000th data\n",
      "complete 131000th data\n",
      "complete 132000th data\n",
      "complete 133000th data\n",
      "complete 134000th data\n",
      "complete 135000th data\n",
      "complete 136000th data\n",
      "complete 137000th data\n",
      "complete 138000th data\n",
      "complete 139000th data\n",
      "complete 140000th data\n",
      "complete 141000th data\n",
      "complete 142000th data\n",
      "complete 143000th data\n",
      "complete 144000th data\n",
      "complete 145000th data\n",
      "complete 146000th data\n",
      "complete 147000th data\n",
      "complete 148000th data\n",
      "complete 149000th data\n",
      "complete 150000th data\n",
      "complete 151000th data\n",
      "complete 152000th data\n",
      "complete 153000th data\n",
      "complete 154000th data\n",
      "complete 155000th data\n",
      "complete 156000th data\n",
      "complete 157000th data\n",
      "complete 158000th data\n",
      "complete 159000th data\n",
      "complete 160000th data\n",
      "complete 161000th data\n",
      "complete 162000th data\n",
      "complete 163000th data\n",
      "complete 164000th data\n",
      "complete 165000th data\n",
      "complete 166000th data\n",
      "complete 167000th data\n",
      "complete 168000th data\n",
      "complete 169000th data\n",
      "complete 170000th data\n",
      "complete 171000th data\n",
      "complete 172000th data\n",
      "complete 173000th data\n",
      "complete 174000th data\n",
      "complete 175000th data\n",
      "complete 176000th data\n",
      "complete 177000th data\n",
      "complete 178000th data\n",
      "complete 179000th data\n",
      "complete 180000th data\n",
      "complete 181000th data\n",
      "complete 182000th data\n",
      "complete 183000th data\n",
      "complete 184000th data\n",
      "complete 185000th data\n",
      "complete 186000th data\n",
      "complete 187000th data\n",
      "complete 188000th data\n",
      "complete 189000th data\n",
      "complete 190000th data\n",
      "complete 191000th data\n",
      "complete 1000th data\n",
      "complete 2000th data\n",
      "complete 3000th data\n",
      "complete 4000th data\n",
      "complete 5000th data\n",
      "complete 6000th data\n",
      "complete 7000th data\n",
      "complete 8000th data\n",
      "complete 9000th data\n",
      "complete 10000th data\n",
      "complete 11000th data\n",
      "complete 12000th data\n",
      "complete 13000th data\n",
      "complete 14000th data\n",
      "complete 15000th data\n",
      "complete 16000th data\n",
      "complete 17000th data\n",
      "complete 18000th data\n",
      "complete 19000th data\n",
      "complete 20000th data\n",
      "complete 21000th data\n",
      "complete 22000th data\n",
      "complete 23000th data\n",
      "complete 24000th data\n",
      "complete 25000th data\n",
      "complete 26000th data\n",
      "complete 27000th data\n",
      "complete 28000th data\n",
      "complete 29000th data\n",
      "complete 30000th data\n",
      "complete 31000th data\n",
      "complete 32000th data\n"
     ]
    }
   ],
   "source": [
    "dataCleaning('train', 1000)\n",
    "#dataCleaning('test')\n",
    "dataCleaning('val', 1000)\n",
    "dataCleaning('practice', 0)"
   ]
  },
  {
   "cell_type": "code",
   "execution_count": null,
   "id": "7e585c07",
   "metadata": {},
   "outputs": [],
   "source": []
  },
  {
   "cell_type": "code",
   "execution_count": null,
   "id": "e08baf64",
   "metadata": {},
   "outputs": [],
   "source": []
  }
 ],
 "metadata": {
  "kernelspec": {
   "display_name": "Python 3 (ipykernel)",
   "language": "python",
   "name": "python3"
  },
  "language_info": {
   "codemirror_mode": {
    "name": "ipython",
    "version": 3
   },
   "file_extension": ".py",
   "mimetype": "text/x-python",
   "name": "python",
   "nbconvert_exporter": "python",
   "pygments_lexer": "ipython3",
   "version": "3.8.8"
  }
 },
 "nbformat": 4,
 "nbformat_minor": 5
}
