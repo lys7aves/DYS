{
 "cells": [
  {
   "cell_type": "code",
   "execution_count": 1,
   "id": "8a5a10eb",
   "metadata": {},
   "outputs": [],
   "source": [
    "import json"
   ]
  },
  {
   "cell_type": "markdown",
   "id": "16a8ad97",
   "metadata": {},
   "source": [
    "# Load Json Data"
   ]
  },
  {
   "cell_type": "code",
   "execution_count": 2,
   "id": "7ee3aeb3",
   "metadata": {},
   "outputs": [],
   "source": [
    "def loadJsonData(fileName):\n",
    "    with open(fileName, 'r') as f:\n",
    "        json_data = json.load(f)\n",
    "    print(json.dumps(json_data), indent='\\t')\n",
    "    \n",
    "    return json_data"
   ]
  },
  {
   "cell_type": "code",
   "execution_count": null,
   "id": "51b76ea3",
   "metadata": {},
   "outputs": [],
   "source": [
    "file_path = './014.K-Fashion_sample/라벨링데이터/레트로/'\n",
    "file_name = '(121)IMG_1.json'"
   ]
  },
  {
   "cell_type": "code",
   "execution_count": null,
   "id": "14ddce5e",
   "metadata": {},
   "outputs": [],
   "source": [
    "json_data = loadJsonData('')"
   ]
  },
  {
   "cell_type": "code",
   "execution_count": null,
   "id": "46fcb41c",
   "metadata": {},
   "outputs": [],
   "source": []
  }
 ],
 "metadata": {
  "kernelspec": {
   "display_name": "Python 3",
   "language": "python",
   "name": "python3"
  },
  "language_info": {
   "codemirror_mode": {
    "name": "ipython",
    "version": 3
   },
   "file_extension": ".py",
   "mimetype": "text/x-python",
   "name": "python",
   "nbconvert_exporter": "python",
   "pygments_lexer": "ipython3",
   "version": "3.8.8"
  }
 },
 "nbformat": 4,
 "nbformat_minor": 5
}
