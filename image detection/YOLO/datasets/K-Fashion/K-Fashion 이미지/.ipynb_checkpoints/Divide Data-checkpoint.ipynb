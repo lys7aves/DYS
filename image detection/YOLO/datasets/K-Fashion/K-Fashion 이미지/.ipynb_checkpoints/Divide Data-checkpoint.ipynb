{
 "cells": [
  {
   "cell_type": "code",
   "execution_count": 74,
   "metadata": {},
   "outputs": [],
   "source": [
    "import os\n",
    "from shutil import copyfile"
   ]
  },
  {
   "cell_type": "code",
   "execution_count": null,
   "metadata": {},
   "outputs": [],
   "source": []
  },
  {
   "cell_type": "markdown",
   "metadata": {},
   "source": [
    "# Read Directory List"
   ]
  },
  {
   "cell_type": "code",
   "execution_count": 7,
   "metadata": {},
   "outputs": [],
   "source": [
    "def readDirList(path_dir='.'):\n",
    "    if os.path.isdir(path_dir):\n",
    "        file_list = os.listdir(path_dir)\n",
    "    else:\n",
    "        file_list = None\n",
    "    \n",
    "    return file_list"
   ]
  },
  {
   "cell_type": "code",
   "execution_count": null,
   "metadata": {},
   "outputs": [],
   "source": []
  },
  {
   "cell_type": "markdown",
   "metadata": {},
   "source": [
    "# Copy Data"
   ]
  },
  {
   "cell_type": "code",
   "execution_count": 100,
   "metadata": {},
   "outputs": [],
   "source": [
    "def copyData(src_path, dest_path, folder_name, folder_number, data_list):\n",
    "    copy_data_list = []\n",
    "    folder_path = folder_name + '%04d'%folder_number + '/'\n",
    "    \n",
    "    for data in data_list:\n",
    "        data_ = data[len(src_path):]\n",
    "        \n",
    "        copy_data = dest_path + folder_path + data_\n",
    "        copy_data_list.append(copy_data)\n",
    "        \n",
    "        path, name = os.path.split(copy_data)\n",
    "        if not os.path.exists(path):\n",
    "            os.makedirs(path)\n",
    "            \n",
    "        copyfile(data, copy_data)\n",
    "    \n",
    "    print('complete', folder_path)"
   ]
  },
  {
   "cell_type": "code",
   "execution_count": null,
   "metadata": {},
   "outputs": [],
   "source": []
  },
  {
   "cell_type": "markdown",
   "metadata": {},
   "source": [
    "# DFS Directory"
   ]
  },
  {
   "cell_type": "code",
   "execution_count": 102,
   "metadata": {},
   "outputs": [],
   "source": [
    "def dfsDir(src_path, curr_path, dest_path, folder_name, folder_number, number_of_files, data_type, data_list):\n",
    "    print(curr_path)\n",
    "    \n",
    "    if not os.path.isdir(curr_path):\n",
    "        return None, None\n",
    "    \n",
    "    print('start!')\n",
    "    \n",
    "    file_list = readDirList(curr_path)\n",
    "    print(file_list)\n",
    "    \n",
    "    for file in file_list:\n",
    "        if os.path.isfile(curr_path+file):\n",
    "            file_path = curr_path + file\n",
    "            \n",
    "            split = file.split('.')\n",
    "            print(split, len(split))\n",
    "            \n",
    "            if data_type == '' or (len(split)>1 and split[-1] == data_type):\n",
    "                data_list.append(file_path)\n",
    "                \n",
    "                if len(data_list) == number_of_files:\n",
    "                    copyData(src_path, dest_path, folder_name, folder_number, data_list)\n",
    "                    data_list = []\n",
    "                    folder_number = folder_number + 1\n",
    "            \n",
    "            #print('file', file_path)\n",
    "        \n",
    "        \n",
    "        else:\n",
    "            new_path = curr_path + file + '/'\n",
    "            #print('dir', new_path)\n",
    "            folder_number, data_list = dfsDir(src_path, new_path, dest_path, folder_name, folder_number, number_of_files, data_type, data_list)\n",
    "    #print(file_list)\n",
    "    \n",
    "    return folder_number, data_list"
   ]
  },
  {
   "cell_type": "code",
   "execution_count": null,
   "metadata": {},
   "outputs": [],
   "source": []
  },
  {
   "cell_type": "code",
   "execution_count": null,
   "metadata": {},
   "outputs": [],
   "source": []
  },
  {
   "cell_type": "code",
   "execution_count": 96,
   "metadata": {},
   "outputs": [],
   "source": [
    "src_path = 'Practice/라벨링 데이터/'\n",
    "dest_path = 'divided Practice/라벨링 데이터/'\n",
    "folder_name = ''"
   ]
  },
  {
   "cell_type": "code",
   "execution_count": 103,
   "metadata": {},
   "outputs": [
    {
     "name": "stdout",
     "output_type": "stream",
     "text": [
      "Practice/라벨링 데이터\n",
      "start!\n",
      "['레트로', '로맨틱', '리조트']\n",
      "Practice/라벨링 데이터레트로/\n",
      "Practice/라벨링 데이터로맨틱/\n",
      "Practice/라벨링 데이터리조트/\n"
     ]
    }
   ],
   "source": [
    "folder_number, data_list = dfsDir(src_path, src_path, dest_path, folder_name, 0, 10, '', [])"
   ]
  },
  {
   "cell_type": "code",
   "execution_count": 49,
   "metadata": {},
   "outputs": [
    {
     "name": "stdout",
     "output_type": "stream",
     "text": [
      "['./Training/test', './Training/train_라벨링데이터.tar', './Training/train_원천데이터.tar']\n"
     ]
    }
   ],
   "source": [
    "print(data_list)"
   ]
  },
  {
   "cell_type": "code",
   "execution_count": null,
   "metadata": {},
   "outputs": [],
   "source": []
  }
 ],
 "metadata": {
  "kernelspec": {
   "display_name": "Python 3",
   "language": "python",
   "name": "python3"
  },
  "language_info": {
   "codemirror_mode": {
    "name": "ipython",
    "version": 3
   },
   "file_extension": ".py",
   "mimetype": "text/x-python",
   "name": "python",
   "nbconvert_exporter": "python",
   "pygments_lexer": "ipython3",
   "version": "3.8.5"
  }
 },
 "nbformat": 4,
 "nbformat_minor": 4
}
