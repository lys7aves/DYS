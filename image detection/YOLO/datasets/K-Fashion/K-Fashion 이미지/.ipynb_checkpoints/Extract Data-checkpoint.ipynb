{
 "cells": [
  {
   "cell_type": "code",
   "execution_count": 40,
   "metadata": {},
   "outputs": [],
   "source": [
    "import os\n",
    "import random\n",
    "import json\n",
    "from shutil import copyfile\n",
    "import sys"
   ]
  },
  {
   "cell_type": "code",
   "execution_count": 2,
   "metadata": {},
   "outputs": [],
   "source": [
    "LENGTH = {'상의':'소매기장', '하의':'기장'}\n",
    "CATEGORY_NUMBER = {'탑':0, '티셔츠':1, '니트웨어':2, '셔츠':3, '후드티':4,\n",
    "                  '청바지':0, '팬츠':1, '조거팬츠':2}\n",
    "LENGTH_NUMBER = {'민소매':0, '반팔':0, '캡':0, '7부소매':1, '긴팔':1,\n",
    "                '미니':0, '니렝스':0, '미디':1, '발목':1, '맥시':1}\n",
    "NUMBER_OF_CATEGORY = {'상의':10, '하의':6}\n",
    "NUMBER_OF_LENGTH = 2"
   ]
  },
  {
   "cell_type": "code",
   "execution_count": null,
   "metadata": {},
   "outputs": [],
   "source": []
  },
  {
   "cell_type": "markdown",
   "metadata": {},
   "source": [
    "# Read Directory List"
   ]
  },
  {
   "cell_type": "code",
   "execution_count": 3,
   "metadata": {},
   "outputs": [],
   "source": [
    "def readDirList(path_dir='.'):\n",
    "    if os.path.isdir(path_dir):\n",
    "        file_list = os.listdir(path_dir)\n",
    "    else:\n",
    "        file_list = None\n",
    "    \n",
    "    return file_list"
   ]
  },
  {
   "cell_type": "code",
   "execution_count": null,
   "metadata": {},
   "outputs": [],
   "source": []
  },
  {
   "cell_type": "markdown",
   "metadata": {},
   "source": [
    "# Parse Data List"
   ]
  },
  {
   "cell_type": "code",
   "execution_count": 38,
   "metadata": {},
   "outputs": [],
   "source": [
    "def parseDataList(data_list):\n",
    "    name_list = []\n",
    "    \n",
    "    for data in data_list:\n",
    "        name_list.append(os.path.splitext(data)[0])\n",
    "        \n",
    "    return name_list"
   ]
  },
  {
   "cell_type": "code",
   "execution_count": null,
   "metadata": {},
   "outputs": [],
   "source": []
  },
  {
   "cell_type": "markdown",
   "metadata": {},
   "source": [
    "# Load Json Data"
   ]
  },
  {
   "cell_type": "code",
   "execution_count": 5,
   "metadata": {},
   "outputs": [],
   "source": [
    "def loadJsonData(fileName):\n",
    "    with open(fileName, 'r', encoding='UTF8') as f:\n",
    "        json_data = json.load(f)\n",
    "    \n",
    "    return json_data"
   ]
  },
  {
   "cell_type": "code",
   "execution_count": null,
   "metadata": {},
   "outputs": [],
   "source": []
  },
  {
   "cell_type": "markdown",
   "metadata": {},
   "source": [
    "# Get  Rectangle Coordinate"
   ]
  },
  {
   "cell_type": "code",
   "execution_count": 6,
   "metadata": {},
   "outputs": [],
   "source": [
    "def getRectCoor(rect_list):\n",
    "    rect_coor = []\n",
    "    \n",
    "    # rect_list에 있는 모든 rect들에 대해서\n",
    "    for rect in rect_list:\n",
    "        # 정보가 없으면 break\n",
    "        if not rect.get('X좌표'): break\n",
    "        \n",
    "        # x, y, w, h로 [x1,y1,x2,y2] 데이터 append\n",
    "        x = rect['X좌표']\n",
    "        y = rect['Y좌표']\n",
    "        w = rect['가로']\n",
    "        h = rect['세로']\n",
    "        rect_coor.append([x, y, x+w, y+h])\n",
    "    \n",
    "    # 사각형 좌표 정보 리턴\n",
    "    return rect_coor"
   ]
  },
  {
   "cell_type": "code",
   "execution_count": null,
   "metadata": {},
   "outputs": [],
   "source": []
  },
  {
   "cell_type": "markdown",
   "metadata": {},
   "source": [
    "# Get Category"
   ]
  },
  {
   "cell_type": "code",
   "execution_count": 7,
   "metadata": {},
   "outputs": [],
   "source": [
    "def getCategory(label_list, category_type):\n",
    "    category_list = []\n",
    "    \n",
    "    print(label_list)\n",
    "    # label_list에 있는 모든 label들에 대해서\n",
    "    for label in label_list:\n",
    "        # 정보가 없으면 break\n",
    "        #if not label.get('카테고리'): break\n",
    "        \n",
    "        try:\n",
    "            category = label['카테고리']\n",
    "            length = label[LENGTH[category_type]]\n",
    "\n",
    "            c_num = CATEGORY_NUMBER[category]\n",
    "            l_num = LENGTH_NUMBER[length]\n",
    "\n",
    "            category_number = c_num*NUMBER_OF_LENGTH + l_num\n",
    "        except KeyError:\n",
    "            category_number = -1\n",
    "        \n",
    "        category_list.append(category_number)\n",
    "    \n",
    "    return category_list"
   ]
  },
  {
   "cell_type": "code",
   "execution_count": null,
   "metadata": {},
   "outputs": [],
   "source": []
  },
  {
   "cell_type": "markdown",
   "metadata": {},
   "source": [
    "# Save List to Text File"
   ]
  },
  {
   "cell_type": "code",
   "execution_count": 8,
   "metadata": {},
   "outputs": [],
   "source": [
    "def saveList2(fileName, data_list):\n",
    "    f = open(fileName, 'w')\n",
    "    \n",
    "    for data in data_list:\n",
    "        for d in data:\n",
    "            f.write(str(d))\n",
    "            f.write(' ')\n",
    "        f.write('\\n')\n",
    "    \n",
    "    f.close()"
   ]
  },
  {
   "cell_type": "code",
   "execution_count": null,
   "metadata": {},
   "outputs": [],
   "source": []
  },
  {
   "cell_type": "markdown",
   "metadata": {},
   "source": [
    "# Extract Data"
   ]
  },
  {
   "cell_type": "code",
   "execution_count": 70,
   "metadata": {},
   "outputs": [],
   "source": [
    "'''\n",
    "img_dir : img 데이터 direcotry\n",
    "label_dir : label 데이터(.json) direcotry\n",
    "res_img_dir : 추출한 img 데이터를 저장할 directory\n",
    "res_label_dir : 추출한 label 데이터를 저장할 directory\n",
    "category_type : 상의 / 하의\n",
    "npc : number per category\n",
    "\n",
    "약 category 개수 * npc 만큼의 데이터가 추출된다.\n",
    "(한 이미지에 여러 category가 있으면 그만큼 데이터가 추출되는 데이터가 적어짐)\n",
    "'''\n",
    "def extractData(cnt, img_dir, label_dir, res_img_dir, res_label_dir, category_type, npc):\n",
    "    if not os.path.exists(res_img_dir):\n",
    "        os.makedirs(res_img_dir)\n",
    "    if not os.path.exists(res_label_dir):\n",
    "        os.makedirs(res_label_dir)\n",
    "    \n",
    "    # label 리스트 가져오기\n",
    "    label_list = readDirList(label_dir)\n",
    "    # name.json > name\n",
    "    name_list = parseDataList(label_list)\n",
    "    # name 리스트 무작위로 섞기\n",
    "    #random.shuffle(name_list)\n",
    "    \n",
    "    category_count = [0] * NUMBER_OF_CATEGORY[category_type]\n",
    "\n",
    "    for name in name_list[cnt:]:\n",
    "        print(cnt, name)\n",
    "        cnt += 1\n",
    "        # label_dir/name.json 읽기\n",
    "        json_data = loadJsonData(label_dir+name+'.json')\n",
    "\n",
    "        # json 파일에서 category_type에 해당하는 사각형 좌표 가져오기\n",
    "        rect_coor = getRectCoor(json_data['데이터셋 정보']['데이터셋 상세설명']['렉트좌표'][category_type])\n",
    "\n",
    "        # json 파일에서 category_type에 해당하는 카테고리 가져오기\n",
    "        category = getCategory(json_data['데이터셋 정보']['데이터셋 상세설명']['라벨링'][category_type], category_type)\n",
    "\n",
    "        print(rect_coor)\n",
    "        print(category)\n",
    "        \n",
    "        # 유효한 데이터만 추출\n",
    "        final_list = []\n",
    "        flag = False\n",
    "        for i in range(len(rect_coor)):\n",
    "            if category[i] == -1: continue\n",
    "            if category_count[category[i]]+1 > npc: flag = True\n",
    "\n",
    "            final_list.append([category[i]] + rect_coor[i])\n",
    "\n",
    "        # 유효한 데이터가 없거나 해당 카테고리 이미지가 너무 많으면 continue\n",
    "        if len(final_list) == 0 or flag: continue\n",
    "\n",
    "        # 이미지 복사\n",
    "        #copyfile(img_dir+name+'.jpg', res_img_dir+name+'.jpg')\n",
    "        # label 저장\n",
    "        saveList2(res_label_dir+name+'.txt', final_list)\n",
    "\n",
    "        # 카테고리 카우팅\n",
    "        for c in category:\n",
    "            if category[i] == -1: continue\n",
    "            category_count[category[i]] += 1\n",
    "\n",
    "        print(category_count)\n",
    "    \n",
    "    print('finish')"
   ]
  },
  {
   "cell_type": "code",
   "execution_count": null,
   "metadata": {},
   "outputs": [],
   "source": []
  },
  {
   "cell_type": "code",
   "execution_count": null,
   "metadata": {},
   "outputs": [],
   "source": []
  },
  {
   "cell_type": "code",
   "execution_count": 138,
   "metadata": {},
   "outputs": [],
   "source": []
  },
  {
   "cell_type": "code",
   "execution_count": 71,
   "metadata": {},
   "outputs": [
    {
     "name": "stdout",
     "output_type": "stream",
     "text": [
      "264 (6)IMG_1\n",
      "[[359.5, 553.692, 447.5, 740.692]]\n",
      "[]\n"
     ]
    },
    {
     "ename": "IndexError",
     "evalue": "list index out of range",
     "output_type": "error",
     "traceback": [
      "\u001b[1;31m---------------------------------------------------------------------------\u001b[0m",
      "\u001b[1;31mIndexError\u001b[0m                                Traceback (most recent call last)",
      "\u001b[1;32m<ipython-input-71-4471c1365b06>\u001b[0m in \u001b[0;36m<module>\u001b[1;34m\u001b[0m\n\u001b[1;32m----> 1\u001b[1;33m \u001b[0mextractData\u001b[0m\u001b[1;33m(\u001b[0m\u001b[1;36m264\u001b[0m\u001b[1;33m,\u001b[0m \u001b[1;34m'Trainig/원천데이터_all_in_one/'\u001b[0m\u001b[1;33m,\u001b[0m \u001b[1;34m'Training/라벨링데이터_all_in_one/'\u001b[0m\u001b[1;33m,\u001b[0m \u001b[1;34m'Training/원천데이터_상의_100/'\u001b[0m\u001b[1;33m,\u001b[0m \u001b[1;34m'Training/라벨링데이터_상의_100/'\u001b[0m\u001b[1;33m,\u001b[0m \u001b[1;34m'상의'\u001b[0m\u001b[1;33m,\u001b[0m \u001b[1;36m100\u001b[0m\u001b[1;33m)\u001b[0m\u001b[1;33m\u001b[0m\u001b[1;33m\u001b[0m\u001b[0m\n\u001b[0m\u001b[0;32m      2\u001b[0m \u001b[1;31m#extractData('Validation/원천데이터_all_in_one/', 'Validation/라벨링데이터_all_in_one/', 'Validation/원천데이터_상의_20/', 'Validation/라벨링데이터_상의_20/', '상의', 20)\u001b[0m\u001b[1;33m\u001b[0m\u001b[1;33m\u001b[0m\u001b[1;33m\u001b[0m\u001b[0m\n\u001b[0;32m      3\u001b[0m \u001b[1;31m#extractData('Trainig/원천데이터_all_in_one/', 'Training/라벨링데이터_all_in_one/', 'Training/원천데이터_하의_100/', 'Training/라벨링데이터_하의_100/', '하의', 100)\u001b[0m\u001b[1;33m\u001b[0m\u001b[1;33m\u001b[0m\u001b[1;33m\u001b[0m\u001b[0m\n\u001b[0;32m      4\u001b[0m \u001b[1;31m#extractData('Validation/원천데이터_all_in_one/', 'Validation/라벨링데이터_all_in_one/', 'Validation/원천데이터_하의_20/', 'Validation/라벨링데이터_하의_20/', '하의', 20)\u001b[0m\u001b[1;33m\u001b[0m\u001b[1;33m\u001b[0m\u001b[1;33m\u001b[0m\u001b[0m\n",
      "\u001b[1;32m<ipython-input-70-df483658b2e8>\u001b[0m in \u001b[0;36mextractData\u001b[1;34m(cnt, img_dir, label_dir, res_img_dir, res_label_dir, category_type, npc)\u001b[0m\n\u001b[0;32m     44\u001b[0m         \u001b[0mflag\u001b[0m \u001b[1;33m=\u001b[0m \u001b[1;32mFalse\u001b[0m\u001b[1;33m\u001b[0m\u001b[1;33m\u001b[0m\u001b[0m\n\u001b[0;32m     45\u001b[0m         \u001b[1;32mfor\u001b[0m \u001b[0mi\u001b[0m \u001b[1;32min\u001b[0m \u001b[0mrange\u001b[0m\u001b[1;33m(\u001b[0m\u001b[0mlen\u001b[0m\u001b[1;33m(\u001b[0m\u001b[0mrect_coor\u001b[0m\u001b[1;33m)\u001b[0m\u001b[1;33m)\u001b[0m\u001b[1;33m:\u001b[0m\u001b[1;33m\u001b[0m\u001b[1;33m\u001b[0m\u001b[0m\n\u001b[1;32m---> 46\u001b[1;33m             \u001b[1;32mif\u001b[0m \u001b[0mcategory\u001b[0m\u001b[1;33m[\u001b[0m\u001b[0mi\u001b[0m\u001b[1;33m]\u001b[0m \u001b[1;33m==\u001b[0m \u001b[1;33m-\u001b[0m\u001b[1;36m1\u001b[0m\u001b[1;33m:\u001b[0m \u001b[1;32mcontinue\u001b[0m\u001b[1;33m\u001b[0m\u001b[1;33m\u001b[0m\u001b[0m\n\u001b[0m\u001b[0;32m     47\u001b[0m             \u001b[1;32mif\u001b[0m \u001b[0mcategory_count\u001b[0m\u001b[1;33m[\u001b[0m\u001b[0mcategory\u001b[0m\u001b[1;33m[\u001b[0m\u001b[0mi\u001b[0m\u001b[1;33m]\u001b[0m\u001b[1;33m]\u001b[0m\u001b[1;33m+\u001b[0m\u001b[1;36m1\u001b[0m \u001b[1;33m>\u001b[0m \u001b[0mnpc\u001b[0m\u001b[1;33m:\u001b[0m \u001b[0mflag\u001b[0m \u001b[1;33m=\u001b[0m \u001b[1;32mTrue\u001b[0m\u001b[1;33m\u001b[0m\u001b[1;33m\u001b[0m\u001b[0m\n\u001b[0;32m     48\u001b[0m \u001b[1;33m\u001b[0m\u001b[0m\n",
      "\u001b[1;31mIndexError\u001b[0m: list index out of range"
     ]
    }
   ],
   "source": [
    "extractData(264, 'Trainig/원천데이터_all_in_one/', 'Training/라벨링데이터_all_in_one/', 'Training/원천데이터_상의_100/', 'Training/라벨링데이터_상의_100/', '상의', 100)\n",
    "#extractData('Validation/원천데이터_all_in_one/', 'Validation/라벨링데이터_all_in_one/', 'Validation/원천데이터_상의_20/', 'Validation/라벨링데이터_상의_20/', '상의', 20)\n",
    "#extractData('Trainig/원천데이터_all_in_one/', 'Training/라벨링데이터_all_in_one/', 'Training/원천데이터_하의_100/', 'Training/라벨링데이터_하의_100/', '하의', 100)\n",
    "#extractData('Validation/원천데이터_all_in_one/', 'Validation/라벨링데이터_all_in_one/', 'Validation/원천데이터_하의_20/', 'Validation/라벨링데이터_하의_20/', '하의', 20)"
   ]
  },
  {
   "cell_type": "code",
   "execution_count": 140,
   "metadata": {},
   "outputs": [],
   "source": [
    "img_dir = 'Trainig/원천데이터_all_in_one/'\n",
    "label_dir = 'Training/라벨링데이터_all_in_one/'\n",
    "res_img_dir = 'Training/원천데이터_상의_1000/'\n",
    "res_label_dir = 'Training/라벨링데이터_상의_1000/'\n",
    "category_type = '상의'\n",
    "npc = 100 # number per category\n",
    "\n",
    "#extractData(img_dir, label_dir, res_img_dir, res_label_dir, category_type, npc)"
   ]
  },
  {
   "cell_type": "code",
   "execution_count": null,
   "metadata": {},
   "outputs": [],
   "source": []
  }
 ],
 "metadata": {
  "kernelspec": {
   "display_name": "Python 3",
   "language": "python",
   "name": "python3"
  },
  "language_info": {
   "codemirror_mode": {
    "name": "ipython",
    "version": 3
   },
   "file_extension": ".py",
   "mimetype": "text/x-python",
   "name": "python",
   "nbconvert_exporter": "python",
   "pygments_lexer": "ipython3",
   "version": "3.8.5"
  }
 },
 "nbformat": 4,
 "nbformat_minor": 4
}
