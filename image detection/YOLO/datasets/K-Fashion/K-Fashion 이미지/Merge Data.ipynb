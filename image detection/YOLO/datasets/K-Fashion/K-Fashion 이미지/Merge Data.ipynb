{
 "cells": [
  {
   "cell_type": "code",
   "execution_count": 11,
   "metadata": {},
   "outputs": [],
   "source": [
    "import os\n",
    "from shutil import copyfile"
   ]
  },
  {
   "cell_type": "code",
   "execution_count": null,
   "metadata": {},
   "outputs": [],
   "source": []
  },
  {
   "cell_type": "markdown",
   "metadata": {},
   "source": [
    "# Read Directory List"
   ]
  },
  {
   "cell_type": "code",
   "execution_count": 3,
   "metadata": {},
   "outputs": [],
   "source": [
    "def readDirList(path_dir='.'):\n",
    "    if os.path.isdir(path_dir):\n",
    "        file_list = os.listdir(path_dir)\n",
    "    else:\n",
    "        file_list = None\n",
    "    \n",
    "    return file_list"
   ]
  },
  {
   "cell_type": "code",
   "execution_count": null,
   "metadata": {},
   "outputs": [],
   "source": []
  },
  {
   "cell_type": "code",
   "execution_count": 21,
   "metadata": {},
   "outputs": [],
   "source": [
    "def mergeData(path, result_path):\n",
    "    # 저장 경로 디렉토리가 없으면 만들기\n",
    "    if not os.path.exists(result_path):\n",
    "        os.makedirs(result_path)\n",
    "    \n",
    "    # 디렉토리 리스트 가져오기\n",
    "    dir_list = readDirList(path)\n",
    "    \n",
    "    # 모든 디렉토리들에 대해\n",
    "    for directory in dir_list:\n",
    "        # 데이터 리스트 가져오기\n",
    "        data_path = path + directory + '/'\n",
    "        data_list = readDirList(data_path)\n",
    "        \n",
    "        # 모든 데이터를 result_path로 copy\n",
    "        for data in data_list:\n",
    "            copyfile(data_path+data, result_path+directory+'_'+data)\n",
    "        \n",
    "        print('finish to copy ' + directory)"
   ]
  },
  {
   "cell_type": "code",
   "execution_count": null,
   "metadata": {},
   "outputs": [],
   "source": []
  },
  {
   "cell_type": "code",
   "execution_count": 22,
   "metadata": {},
   "outputs": [
    {
     "name": "stdout",
     "output_type": "stream",
     "text": [
      "finish to copy 레트로\n",
      "finish to copy 로맨틱\n",
      "finish to copy 리조트\n",
      "finish to copy 매니시\n",
      "finish to copy 모던\n",
      "finish to copy 밀리터리\n",
      "finish to copy 섹시\n",
      "finish to copy 소피스트케이티드\n",
      "finish to copy 스트리트\n",
      "finish to copy 스포티\n",
      "finish to copy 아방가르드\n",
      "finish to copy 오리엔탈\n",
      "finish to copy 웨스턴\n",
      "finish to copy 젠더리스\n",
      "finish to copy 컨트리\n",
      "finish to copy 클래식\n",
      "finish to copy 키치\n",
      "finish to copy 톰보이\n",
      "finish to copy 펑크\n",
      "finish to copy 페미닌\n",
      "finish to copy 프레피\n",
      "finish to copy 히피\n",
      "finish to copy 힙합\n",
      "finish to copy 레트로\n",
      "finish to copy 로맨틱\n",
      "finish to copy 리조트\n",
      "finish to copy 매니시\n",
      "finish to copy 모던\n",
      "finish to copy 밀리터리\n",
      "finish to copy 섹시\n",
      "finish to copy 소피스트케이티드\n",
      "finish to copy 스트리트\n",
      "finish to copy 스포티\n",
      "finish to copy 아방가르드\n",
      "finish to copy 오리엔탈\n",
      "finish to copy 웨스턴\n",
      "finish to copy 젠더리스\n",
      "finish to copy 컨트리\n",
      "finish to copy 클래식\n",
      "finish to copy 키치\n",
      "finish to copy 톰보이\n",
      "finish to copy 펑크\n",
      "finish to copy 페미닌\n",
      "finish to copy 프레피\n",
      "finish to copy 히피\n",
      "finish to copy 힙합\n",
      "finish to copy 레트로\n",
      "finish to copy 로맨틱\n",
      "finish to copy 리조트\n",
      "finish to copy 매니시\n",
      "finish to copy 모던\n",
      "finish to copy 밀리터리\n",
      "finish to copy 섹시\n",
      "finish to copy 소피스트케이티드\n",
      "finish to copy 스트리트\n",
      "finish to copy 스포티\n",
      "finish to copy 아방가르드\n",
      "finish to copy 오리엔탈\n",
      "finish to copy 웨스턴\n",
      "finish to copy 젠더리스\n",
      "finish to copy 컨트리\n",
      "finish to copy 클래식\n",
      "finish to copy 키치\n",
      "finish to copy 톰보이\n",
      "finish to copy 펑크\n",
      "finish to copy 페미닌\n",
      "finish to copy 프레피\n",
      "finish to copy 히피\n",
      "finish to copy 힙합\n",
      "finish to copy 레트로\n",
      "finish to copy 로맨틱\n",
      "finish to copy 리조트\n",
      "finish to copy 매니시\n",
      "finish to copy 모던\n",
      "finish to copy 밀리터리\n",
      "finish to copy 섹시\n",
      "finish to copy 소피스트케이티드\n",
      "finish to copy 스트리트\n",
      "finish to copy 스포티\n",
      "finish to copy 아방가르드\n",
      "finish to copy 오리엔탈\n",
      "finish to copy 웨스턴\n",
      "finish to copy 젠더리스\n",
      "finish to copy 컨트리\n",
      "finish to copy 클래식\n",
      "finish to copy 키치\n",
      "finish to copy 톰보이\n",
      "finish to copy 펑크\n",
      "finish to copy 페미닌\n",
      "finish to copy 프레피\n",
      "finish to copy 히피\n",
      "finish to copy 힙합\n"
     ]
    }
   ],
   "source": [
    "mergeData('Training/라벨링데이터/', 'Training/라벨링데이터_merged/')\n",
    "mergeData('Training/원천데이터/', 'Training/원천데이터_merged/')\n",
    "mergeData('Validation/라벨링데이터/', 'Validation/라벨링데이터_merged/')\n",
    "mergeData('Validation/원천데이터/', 'Validation/원천데이터_merged/')"
   ]
  },
  {
   "cell_type": "code",
   "execution_count": null,
   "metadata": {},
   "outputs": [],
   "source": []
  }
 ],
 "metadata": {
  "kernelspec": {
   "display_name": "Python 3",
   "language": "python",
   "name": "python3"
  },
  "language_info": {
   "codemirror_mode": {
    "name": "ipython",
    "version": 3
   },
   "file_extension": ".py",
   "mimetype": "text/x-python",
   "name": "python",
   "nbconvert_exporter": "python",
   "pygments_lexer": "ipython3",
   "version": "3.8.5"
  }
 },
 "nbformat": 4,
 "nbformat_minor": 4
}
