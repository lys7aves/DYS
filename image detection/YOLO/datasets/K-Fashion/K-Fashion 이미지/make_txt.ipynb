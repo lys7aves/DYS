{
 "cells": [
  {
   "cell_type": "code",
   "execution_count": 7,
   "metadata": {
    "executionInfo": {
     "elapsed": 2,
     "status": "ok",
     "timestamp": 1632126281161,
     "user": {
      "displayName": "­노치윤 / 학생 / 기계공학부",
      "photoUrl": "https://lh3.googleusercontent.com/a/default-user=s64",
      "userId": "03046417036658078818"
     },
     "user_tz": -540
    },
    "id": "cPw-qRxp_K_K"
   },
   "outputs": [],
   "source": [
    "import os\n",
    "import json\n",
    "from PIL import Image\n",
    "import numpy as np"
   ]
  },
  {
   "cell_type": "code",
   "execution_count": 8,
   "metadata": {
    "executionInfo": {
     "elapsed": 2,
     "status": "ok",
     "timestamp": 1632126283291,
     "user": {
      "displayName": "­노치윤 / 학생 / 기계공학부",
      "photoUrl": "https://lh3.googleusercontent.com/a/default-user=s64",
      "userId": "03046417036658078818"
     },
     "user_tz": -540
    },
    "id": "X0D5wSdNAP7z"
   },
   "outputs": [],
   "source": [
    "def readDirList(path_dir='.'):\n",
    "    file_list = os.listdir(path_dir)\n",
    "    \n",
    "    return file_list"
   ]
  },
  {
   "cell_type": "code",
   "execution_count": 9,
   "metadata": {
    "colab": {
     "base_uri": "https://localhost:8080/"
    },
    "executionInfo": {
     "elapsed": 6728,
     "status": "ok",
     "timestamp": 1632126410138,
     "user": {
      "displayName": "­노치윤 / 학생 / 기계공학부",
      "photoUrl": "https://lh3.googleusercontent.com/a/default-user=s64",
      "userId": "03046417036658078818"
     },
     "user_tz": -540
    },
    "id": "SpMS-zwcAWjt",
    "outputId": "3c096af5-e758-427b-f41c-15575c3a3d39"
   },
   "outputs": [
    {
     "ename": "FileNotFoundError",
     "evalue": "[WinError 3] 지정된 경로를 찾을 수 없습니다: '/content/gdrive/Shareddrives/Put on self/K-Fashion/labels/train_top'",
     "output_type": "error",
     "traceback": [
      "\u001b[1;31m---------------------------------------------------------------------------\u001b[0m",
      "\u001b[1;31mFileNotFoundError\u001b[0m                         Traceback (most recent call last)",
      "\u001b[1;32m<ipython-input-9-69ff1ac01cd5>\u001b[0m in \u001b[0;36m<module>\u001b[1;34m\u001b[0m\n\u001b[1;32m----> 1\u001b[1;33m \u001b[0mimg_list\u001b[0m \u001b[1;33m=\u001b[0m \u001b[0mreadDirList\u001b[0m\u001b[1;33m(\u001b[0m\u001b[1;34m'/content/gdrive/Shareddrives/Put on self/K-Fashion/labels/train_top'\u001b[0m\u001b[1;33m)\u001b[0m \u001b[1;31m#수정\u001b[0m\u001b[1;33m\u001b[0m\u001b[1;33m\u001b[0m\u001b[0m\n\u001b[0m\u001b[0;32m      2\u001b[0m \u001b[0mprint\u001b[0m\u001b[1;33m(\u001b[0m\u001b[0mimg_list\u001b[0m\u001b[1;33m)\u001b[0m\u001b[1;33m\u001b[0m\u001b[1;33m\u001b[0m\u001b[0m\n",
      "\u001b[1;32m<ipython-input-8-32dfd4838ee2>\u001b[0m in \u001b[0;36mreadDirList\u001b[1;34m(path_dir)\u001b[0m\n\u001b[0;32m      1\u001b[0m \u001b[1;32mdef\u001b[0m \u001b[0mreadDirList\u001b[0m\u001b[1;33m(\u001b[0m\u001b[0mpath_dir\u001b[0m\u001b[1;33m=\u001b[0m\u001b[1;34m'.'\u001b[0m\u001b[1;33m)\u001b[0m\u001b[1;33m:\u001b[0m\u001b[1;33m\u001b[0m\u001b[1;33m\u001b[0m\u001b[0m\n\u001b[1;32m----> 2\u001b[1;33m     \u001b[0mfile_list\u001b[0m \u001b[1;33m=\u001b[0m \u001b[0mos\u001b[0m\u001b[1;33m.\u001b[0m\u001b[0mlistdir\u001b[0m\u001b[1;33m(\u001b[0m\u001b[0mpath_dir\u001b[0m\u001b[1;33m)\u001b[0m\u001b[1;33m\u001b[0m\u001b[1;33m\u001b[0m\u001b[0m\n\u001b[0m\u001b[0;32m      3\u001b[0m \u001b[1;33m\u001b[0m\u001b[0m\n\u001b[0;32m      4\u001b[0m     \u001b[1;32mreturn\u001b[0m \u001b[0mfile_list\u001b[0m\u001b[1;33m\u001b[0m\u001b[1;33m\u001b[0m\u001b[0m\n",
      "\u001b[1;31mFileNotFoundError\u001b[0m: [WinError 3] 지정된 경로를 찾을 수 없습니다: '/content/gdrive/Shareddrives/Put on self/K-Fashion/labels/train_top'"
     ]
    }
   ],
   "source": [
    "img_list = readDirList('/content/gdrive/Shareddrives/Put on self/K-Fashion/labels/train_top') #수정\n",
    "print(img_list)"
   ]
  },
  {
   "cell_type": "code",
   "execution_count": null,
   "metadata": {
    "executionInfo": {
     "elapsed": 259,
     "status": "ok",
     "timestamp": 1632126292537,
     "user": {
      "displayName": "­노치윤 / 학생 / 기계공학부",
      "photoUrl": "https://lh3.googleusercontent.com/a/default-user=s64",
      "userId": "03046417036658078818"
     },
     "user_tz": -540
    },
    "id": "ZJub1A0WAuXK"
   },
   "outputs": [],
   "source": [
    "def listCleaning(img_file_list, dataType):\n",
    "    label_list = []\n",
    "    \n",
    "    for img_file in img_file_list:\n",
    "        name = img_file[:-4]\n",
    "\n",
    "        label = '/content/gdrive/Shareddrives/Put on self/K-Fashion/images/' + dataType + '/' + name + '.jpg'\n",
    "        \n",
    "        path='/content/gdrive/Shareddrives/Put on self/K-Fashion/labels/' + dataType + '/' + name + '.txt'\n",
    "        image_path='/content/gdrive/Shareddrives/Put on self/K-Fashion/images/' + dataType + '/' + name + '.jpg'\n",
    "\n",
    "        f = open(path, 'r')\n",
    "        while True:\n",
    "          line = f.readline()\n",
    "          if not line: break\n",
    "          split = line.split()\n",
    "          label+=' '\n",
    "          for i in range(1,len(split)):\n",
    "            idx=split[i].find('.')\n",
    "            if(idx!=-1):\n",
    "                split[i]=split[i][0:idx]\n",
    "            if(split[i].find('-')!=-1): split[i]='0'\n",
    "            label+=(split[i])+','\n",
    "          label+=split[0]\n",
    "\n",
    "        label_list.append(label)\n",
    "        \n",
    "    f.close()\n",
    "    \n",
    "    return label_list"
   ]
  },
  {
   "cell_type": "markdown",
   "metadata": {
    "id": "ivH3dUPRDA1R"
   },
   "source": [
    "1. train txt 만들기\n",
    "2. test txt 만들기 (val 이용)\n",
    "\n",
    "'#수정' 되어있는부분 고치면 됨."
   ]
  },
  {
   "cell_type": "code",
   "execution_count": 10,
   "metadata": {
    "colab": {
     "base_uri": "https://localhost:8080/"
    },
    "executionInfo": {
     "elapsed": 294777,
     "status": "ok",
     "timestamp": 1632126719375,
     "user": {
      "displayName": "­노치윤 / 학생 / 기계공학부",
      "photoUrl": "https://lh3.googleusercontent.com/a/default-user=s64",
      "userId": "03046417036658078818"
     },
     "user_tz": -540
    },
    "id": "8KRbuJKXIfTv",
    "outputId": "537f6620-c8a1-4dea-eb7b-5fd74829fc38"
   },
   "outputs": [
    {
     "ename": "FileNotFoundError",
     "evalue": "[Errno 2] No such file or directory: '/content/gdrive/Shareddrives/Put on self/K-Fashion/labels/train_top/레트로_1603076-0001 (3740).txt'",
     "output_type": "error",
     "traceback": [
      "\u001b[1;31m---------------------------------------------------------------------------\u001b[0m",
      "\u001b[1;31mFileNotFoundError\u001b[0m                         Traceback (most recent call last)",
      "\u001b[1;32m<ipython-input-10-11e2934e79fd>\u001b[0m in \u001b[0;36m<module>\u001b[1;34m\u001b[0m\n\u001b[1;32m----> 1\u001b[1;33m \u001b[0mlabel_list\u001b[0m\u001b[1;33m=\u001b[0m\u001b[0mlistCleaning\u001b[0m\u001b[1;33m(\u001b[0m\u001b[0mimg_list\u001b[0m\u001b[1;33m,\u001b[0m \u001b[1;34m'train_top'\u001b[0m\u001b[1;33m)\u001b[0m \u001b[1;31m# 수정\u001b[0m\u001b[1;33m\u001b[0m\u001b[1;33m\u001b[0m\u001b[0m\n\u001b[0m\u001b[0;32m      2\u001b[0m \u001b[1;33m\u001b[0m\u001b[0m\n\u001b[0;32m      3\u001b[0m \u001b[0mf\u001b[0m\u001b[1;33m=\u001b[0m\u001b[0mopen\u001b[0m\u001b[1;33m(\u001b[0m\u001b[1;34m\"/content/gdrive/Shareddrives/Put on self/K-Fashion/labels/Dataset_top_train.txt\"\u001b[0m\u001b[1;33m,\u001b[0m \u001b[1;34m'w'\u001b[0m\u001b[1;33m)\u001b[0m \u001b[1;31m# 수정\u001b[0m\u001b[1;33m\u001b[0m\u001b[1;33m\u001b[0m\u001b[0m\n\u001b[0;32m      4\u001b[0m \u001b[1;32mfor\u001b[0m \u001b[0mst\u001b[0m \u001b[1;32min\u001b[0m \u001b[0mlabel_list\u001b[0m\u001b[1;33m:\u001b[0m\u001b[1;33m\u001b[0m\u001b[1;33m\u001b[0m\u001b[0m\n\u001b[0;32m      5\u001b[0m   \u001b[0mst\u001b[0m\u001b[1;33m+=\u001b[0m\u001b[1;34m'\\n'\u001b[0m\u001b[1;33m\u001b[0m\u001b[1;33m\u001b[0m\u001b[0m\n",
      "\u001b[1;32m<ipython-input-5-a762f1cf363e>\u001b[0m in \u001b[0;36mlistCleaning\u001b[1;34m(img_file_list, dataType)\u001b[0m\n\u001b[0;32m     10\u001b[0m         \u001b[0mimage_path\u001b[0m\u001b[1;33m=\u001b[0m\u001b[1;34m'/content/gdrive/Shareddrives/Put on self/K-Fashion/images/'\u001b[0m \u001b[1;33m+\u001b[0m \u001b[0mdataType\u001b[0m \u001b[1;33m+\u001b[0m \u001b[1;34m'/'\u001b[0m \u001b[1;33m+\u001b[0m \u001b[0mname\u001b[0m \u001b[1;33m+\u001b[0m \u001b[1;34m'.jpg'\u001b[0m\u001b[1;33m\u001b[0m\u001b[1;33m\u001b[0m\u001b[0m\n\u001b[0;32m     11\u001b[0m \u001b[1;33m\u001b[0m\u001b[0m\n\u001b[1;32m---> 12\u001b[1;33m         \u001b[0mf\u001b[0m \u001b[1;33m=\u001b[0m \u001b[0mopen\u001b[0m\u001b[1;33m(\u001b[0m\u001b[0mpath\u001b[0m\u001b[1;33m,\u001b[0m \u001b[1;34m'r'\u001b[0m\u001b[1;33m)\u001b[0m\u001b[1;33m\u001b[0m\u001b[1;33m\u001b[0m\u001b[0m\n\u001b[0m\u001b[0;32m     13\u001b[0m         \u001b[1;32mwhile\u001b[0m \u001b[1;32mTrue\u001b[0m\u001b[1;33m:\u001b[0m\u001b[1;33m\u001b[0m\u001b[1;33m\u001b[0m\u001b[0m\n\u001b[0;32m     14\u001b[0m           \u001b[0mline\u001b[0m \u001b[1;33m=\u001b[0m \u001b[0mf\u001b[0m\u001b[1;33m.\u001b[0m\u001b[0mreadline\u001b[0m\u001b[1;33m(\u001b[0m\u001b[1;33m)\u001b[0m\u001b[1;33m\u001b[0m\u001b[1;33m\u001b[0m\u001b[0m\n",
      "\u001b[1;31mFileNotFoundError\u001b[0m: [Errno 2] No such file or directory: '/content/gdrive/Shareddrives/Put on self/K-Fashion/labels/train_top/레트로_1603076-0001 (3740).txt'"
     ]
    }
   ],
   "source": [
    "label_list=listCleaning(img_list, 'train_top') # 수정\n",
    "\n",
    "f=open(\"/content/gdrive/Shareddrives/Put on self/K-Fashion/labels/Dataset_top_train.txt\", 'w') # 수정\n",
    "for st in label_list:\n",
    "  st+='\\n'\n",
    "  print(st)\n",
    "  f.write(st)\n",
    "f.close()"
   ]
  },
  {
   "cell_type": "code",
   "execution_count": 11,
   "metadata": {
    "colab": {
     "base_uri": "https://localhost:8080/",
     "height": 174
    },
    "executionInfo": {
     "elapsed": 314,
     "status": "error",
     "timestamp": 1631014323713,
     "user": {
      "displayName": "치윤",
      "photoUrl": "",
      "userId": "04406561448128530201"
     },
     "user_tz": -540
    },
    "id": "4AXQ31niBw0x",
    "outputId": "113bf084-b150-44c1-f549-d1cc023daeab"
   },
   "outputs": [
    {
     "ename": "NameError",
     "evalue": "name 'getList' is not defined",
     "output_type": "error",
     "traceback": [
      "\u001b[1;31m---------------------------------------------------------------------------\u001b[0m",
      "\u001b[1;31mNameError\u001b[0m                                 Traceback (most recent call last)",
      "\u001b[1;32m<ipython-input-11-88d5ac41dc34>\u001b[0m in \u001b[0;36m<module>\u001b[1;34m\u001b[0m\n\u001b[1;32m----> 1\u001b[1;33m \u001b[0mlabel_list\u001b[0m \u001b[1;33m=\u001b[0m \u001b[0mgetList\u001b[0m\u001b[1;33m(\u001b[0m\u001b[1;34m'train_2type_80data'\u001b[0m\u001b[1;33m)\u001b[0m\u001b[1;33m\u001b[0m\u001b[1;33m\u001b[0m\u001b[0m\n\u001b[0m",
      "\u001b[1;31mNameError\u001b[0m: name 'getList' is not defined"
     ]
    }
   ],
   "source": [
    "label_list = getList('train_2type_80data')"
   ]
  },
  {
   "cell_type": "code",
   "execution_count": null,
   "metadata": {},
   "outputs": [],
   "source": []
  },
  {
   "cell_type": "code",
   "execution_count": null,
   "metadata": {},
   "outputs": [],
   "source": []
  }
 ],
 "metadata": {
  "colab": {
   "collapsed_sections": [],
   "name": "make_txt.ipynb",
   "provenance": []
  },
  "kernelspec": {
   "display_name": "Python 3",
   "language": "python",
   "name": "python3"
  },
  "language_info": {
   "codemirror_mode": {
    "name": "ipython",
    "version": 3
   },
   "file_extension": ".py",
   "mimetype": "text/x-python",
   "name": "python",
   "nbconvert_exporter": "python",
   "pygments_lexer": "ipython3",
   "version": "3.8.5"
  }
 },
 "nbformat": 4,
 "nbformat_minor": 1
}
