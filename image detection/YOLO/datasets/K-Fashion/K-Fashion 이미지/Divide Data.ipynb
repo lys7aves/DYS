{
 "cells": [
  {
   "cell_type": "code",
   "execution_count": 74,
   "metadata": {},
   "outputs": [],
   "source": [
    "import os\n",
    "from shutil import copyfile"
   ]
  },
  {
   "cell_type": "code",
   "execution_count": null,
   "metadata": {},
   "outputs": [],
   "source": []
  },
  {
   "cell_type": "markdown",
   "metadata": {},
   "source": [
    "# Read Directory List"
   ]
  },
  {
   "cell_type": "code",
   "execution_count": 7,
   "metadata": {},
   "outputs": [],
   "source": [
    "def readDirList(path_dir='.'):\n",
    "    if os.path.isdir(path_dir):\n",
    "        file_list = os.listdir(path_dir)\n",
    "    else:\n",
    "        file_list = None\n",
    "    \n",
    "    return file_list"
   ]
  },
  {
   "cell_type": "code",
   "execution_count": null,
   "metadata": {},
   "outputs": [],
   "source": []
  },
  {
   "cell_type": "markdown",
   "metadata": {},
   "source": [
    "# Copy Data"
   ]
  },
  {
   "cell_type": "code",
   "execution_count": 110,
   "metadata": {},
   "outputs": [],
   "source": [
    "def copyData(src_path, dest_path, folder_name, folder_number, data_list):\n",
    "    copy_data_list = []\n",
    "    folder_path = dest_path + folder_name + '%04d'%folder_number + '/'\n",
    "    \n",
    "    for data in data_list:\n",
    "        data_ = data[len(src_path):]\n",
    "        \n",
    "        copy_data = folder_path + data_\n",
    "        copy_data_list.append(copy_data)\n",
    "        \n",
    "        path, name = os.path.split(copy_data)\n",
    "        if not os.path.exists(path):\n",
    "            os.makedirs(path)\n",
    "            \n",
    "        copyfile(data, copy_data)\n",
    "    \n",
    "    print('complete', folder_path)"
   ]
  },
  {
   "cell_type": "code",
   "execution_count": null,
   "metadata": {},
   "outputs": [],
   "source": []
  },
  {
   "cell_type": "markdown",
   "metadata": {},
   "source": [
    "# DFS Directory"
   ]
  },
  {
   "cell_type": "code",
   "execution_count": 119,
   "metadata": {},
   "outputs": [],
   "source": [
    "def dfsDir(src_path, curr_path, dest_path, folder_name, folder_number, limit_folder, number_of_files, data_type, data_list):\n",
    "    if not os.path.isdir(curr_path):\n",
    "        return None, None\n",
    "    \n",
    "    file_list = readDirList(curr_path)\n",
    "    \n",
    "    for file in file_list:\n",
    "        if os.path.isfile(curr_path+file):\n",
    "            file_path = curr_path + file\n",
    "            \n",
    "            split = file.split('.')\n",
    "            #print(split, len(split))\n",
    "            \n",
    "            if data_type == '' or (len(split)>1 and split[-1] == data_type):\n",
    "                data_list.append(file_path)\n",
    "                \n",
    "                if len(data_list) == number_of_files:\n",
    "                    copyData(src_path, dest_path, folder_name, folder_number, data_list)\n",
    "                    data_list = []\n",
    "                    folder_number = folder_number + 1\n",
    "                    \n",
    "                    if folder_number == limit_folder:\n",
    "                        return folder_number, None\n",
    "            \n",
    "            #print('file', file_path)\n",
    "        \n",
    "        \n",
    "        else:\n",
    "            new_path = curr_path + file + '/'\n",
    "            #print('dir', new_path)\n",
    "            folder_number, data_list = dfsDir(src_path, new_path, dest_path, folder_name, folder_number, limit_folder, number_of_files, data_type, data_list)\n",
    "            if folder_number == limit_folder:\n",
    "                return folder_number, None\n",
    "    #print(file_list)\n",
    "    \n",
    "    return folder_number, data_list"
   ]
  },
  {
   "cell_type": "code",
   "execution_count": null,
   "metadata": {},
   "outputs": [],
   "source": []
  },
  {
   "cell_type": "markdown",
   "metadata": {},
   "source": [
    "# Divide Data"
   ]
  },
  {
   "cell_type": "code",
   "execution_count": 118,
   "metadata": {},
   "outputs": [],
   "source": [
    "def divideData(src_path, dest_path, number_of_files, limit_folder=-1, folder_name='', dataType=''):\n",
    "    if not os.path.exists(dest_path):\n",
    "        os.makedirs(dest_path)\n",
    "        \n",
    "    folder_number, data_list = dfsDir(src_path, src_path, dest_path, folder_name, 0, limit_folder, number_of_files, dataType, [])\n",
    "    \n",
    "    if folder_number != limit_folder and len(data_list) > 0:\n",
    "        copyData(src_path, dest_path, folder_name, folder_number, data_list)"
   ]
  },
  {
   "cell_type": "code",
   "execution_count": null,
   "metadata": {},
   "outputs": [],
   "source": []
  },
  {
   "cell_type": "code",
   "execution_count": 121,
   "metadata": {
    "scrolled": true
   },
   "outputs": [
    {
     "name": "stdout",
     "output_type": "stream",
     "text": [
      "complete Training/train_원천데이터_divided800_10/0000/\n",
      "complete Training/train_원천데이터_divided800_10/0001/\n",
      "complete Training/train_원천데이터_divided800_10/0002/\n",
      "complete Training/train_원천데이터_divided800_10/0003/\n",
      "complete Training/train_원천데이터_divided800_10/0004/\n",
      "complete Training/train_원천데이터_divided800_10/0005/\n",
      "complete Training/train_원천데이터_divided800_10/0006/\n",
      "complete Training/train_원천데이터_divided800_10/0007/\n",
      "complete Training/train_원천데이터_divided800_10/0008/\n",
      "complete Training/train_원천데이터_divided800_10/0009/\n"
     ]
    }
   ],
   "source": [
    "divideData('Training/train_원천데이터/원천데이터/', 'Training/train_원천데이터_divided800_10/', 800, 10)"
   ]
  },
  {
   "cell_type": "code",
   "execution_count": null,
   "metadata": {},
   "outputs": [],
   "source": []
  },
  {
   "cell_type": "code",
   "execution_count": null,
   "metadata": {},
   "outputs": [],
   "source": []
  },
  {
   "cell_type": "code",
   "execution_count": null,
   "metadata": {},
   "outputs": [],
   "source": []
  },
  {
   "cell_type": "code",
   "execution_count": null,
   "metadata": {},
   "outputs": [],
   "source": []
  }
 ],
 "metadata": {
  "kernelspec": {
   "display_name": "Python 3",
   "language": "python",
   "name": "python3"
  },
  "language_info": {
   "codemirror_mode": {
    "name": "ipython",
    "version": 3
   },
   "file_extension": ".py",
   "mimetype": "text/x-python",
   "name": "python",
   "nbconvert_exporter": "python",
   "pygments_lexer": "ipython3",
   "version": "3.8.5"
  }
 },
 "nbformat": 4,
 "nbformat_minor": 4
}
