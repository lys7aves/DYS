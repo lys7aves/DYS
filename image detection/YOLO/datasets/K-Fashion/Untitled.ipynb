{
 "cells": [
  {
   "cell_type": "code",
   "execution_count": 1,
   "id": "7673a94c",
   "metadata": {},
   "outputs": [],
   "source": [
    "import json"
   ]
  },
  {
   "cell_type": "markdown",
   "id": "c588d120",
   "metadata": {},
   "source": [
    "# Load Json Data"
   ]
  },
  {
   "cell_type": "code",
   "execution_count": 7,
   "id": "e0b30fae",
   "metadata": {},
   "outputs": [],
   "source": [
    "def loadJsonData(fileName):\n",
    "    with open(fileName, 'r', encoding='UTF8') as f:\n",
    "        json_data = json.load(f)\n",
    "    print(json.dumps(json_data, indent='\\t'))\n",
    "    \n",
    "    return json_data"
   ]
  },
  {
   "cell_type": "code",
   "execution_count": 3,
   "id": "10b32841",
   "metadata": {},
   "outputs": [],
   "source": [
    "file_path = './014.K-Fashion_sample/라벨링데이터/레트로/'\n",
    "file_name = '(121)IMG_1.json'"
   ]
  },
  {
   "cell_type": "code",
   "execution_count": 19,
   "id": "b58ed2c5",
   "metadata": {
    "scrolled": false
   },
   "outputs": [],
   "source": [
    "#json_data = loadJsonData(file_path + file_name)"
   ]
  },
  {
   "cell_type": "code",
   "execution_count": null,
   "id": "cb37a67b",
   "metadata": {},
   "outputs": [],
   "source": []
  },
  {
   "cell_type": "markdown",
   "id": "46692b74",
   "metadata": {},
   "source": [
    "# Parse Json Data"
   ]
  },
  {
   "cell_type": "code",
   "execution_count": 17,
   "id": "cc61609d",
   "metadata": {},
   "outputs": [],
   "source": [
    "def parseJsonData(json_data):\n",
    "    dic = {}\n",
    "    \n",
    "    img_file_name = json_data[\"이미지 정보\"][\"이미지 파일명\"]\n",
    "    H = json_data[\"이미지 정보\"][\"이미지 높이\"]\n",
    "    W = json_data[\"이미지 정보\"][\"이미지 너비\"]\n",
    "    \n",
    "    data = json_data[\"데이터셋 정보\"][\"데이터셋 상세설명\"]\n",
    "    \n",
    "    category = [\"상의\", \"하의\", \"아우터\", \"원피스\"]\n",
    "    for c in category:\n",
    "        coordinates = data[\"렉트좌표\"][c]\n",
    "        labels = data[\"라벨링\"][c]\n",
    "        \n",
    "        for i in range(len(data[\"렉트좌표\"][c])):\n",
    "            x = coordinates[i][\"X좌표\"]\n",
    "            y = coordinates[i][\"Y\"]"
   ]
  },
  {
   "cell_type": "code",
   "execution_count": 18,
   "id": "79a321d3",
   "metadata": {},
   "outputs": [
    {
     "name": "stdout",
     "output_type": "stream",
     "text": [
      "[{'X좌표': 74.5, 'Y좌표': 538.098, '가로': 485, '세로': 324}]\n",
      "{'img_file_name': '(121)IMG_1.jpg', 'img_h': 1066, 'img_w': 800}\n"
     ]
    }
   ],
   "source": [
    "parseJsonData(json_data)"
   ]
  },
  {
   "cell_type": "code",
   "execution_count": null,
   "id": "3efd1eb1",
   "metadata": {},
   "outputs": [],
   "source": []
  }
 ],
 "metadata": {
  "kernelspec": {
   "display_name": "Python 3",
   "language": "python",
   "name": "python3"
  },
  "language_info": {
   "codemirror_mode": {
    "name": "ipython",
    "version": 3
   },
   "file_extension": ".py",
   "mimetype": "text/x-python",
   "name": "python",
   "nbconvert_exporter": "python",
   "pygments_lexer": "ipython3",
   "version": "3.8.8"
  }
 },
 "nbformat": 4,
 "nbformat_minor": 5
}
