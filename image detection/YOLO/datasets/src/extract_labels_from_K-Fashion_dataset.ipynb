{
 "cells": [
  {
   "cell_type": "code",
   "execution_count": 16,
   "id": "ec22f0ca",
   "metadata": {},
   "outputs": [],
   "source": [
    "import os"
   ]
  },
  {
   "cell_type": "code",
   "execution_count": null,
   "id": "224674d1",
   "metadata": {},
   "outputs": [],
   "source": []
  },
  {
   "cell_type": "markdown",
   "id": "465654e2",
   "metadata": {},
   "source": [
    "# Read Directory List"
   ]
  },
  {
   "cell_type": "code",
   "execution_count": 18,
   "id": "ab4cac3e",
   "metadata": {},
   "outputs": [],
   "source": [
    "def readDirList(path):\n",
    "    dir_list = os.listdir(path)\n",
    "    \n",
    "    return dir_list"
   ]
  },
  {
   "cell_type": "code",
   "execution_count": null,
   "id": "7521b536",
   "metadata": {},
   "outputs": [],
   "source": []
  },
  {
   "cell_type": "code",
   "execution_count": null,
   "id": "8ad46088",
   "metadata": {},
   "outputs": [],
   "source": []
  },
  {
   "cell_type": "markdown",
   "id": "1fc73beb",
   "metadata": {},
   "source": [
    "# Extract Labels"
   ]
  },
  {
   "cell_type": "code",
   "execution_count": 20,
   "id": "dac7daa6",
   "metadata": {},
   "outputs": [],
   "source": [
    "def extractLabels(data_path, result_path):\n",
    "    label_path = data_path + '라벨링데이터/'\n",
    "    image_path = data_path + '원천데이터/'\n",
    "    \n",
    "    dir_list = readDirList(label_path)\n",
    "    \n",
    "    for dir_ in dir_list:\n",
    "        label_path_ = label_path + dir_ + '/'\n",
    "        image_path_ = image_path + dir + '/'"
   ]
  },
  {
   "cell_type": "code",
   "execution_count": null,
   "id": "ee37854c",
   "metadata": {},
   "outputs": [],
   "source": []
  },
  {
   "cell_type": "code",
   "execution_count": null,
   "id": "2d034c48",
   "metadata": {},
   "outputs": [],
   "source": []
  },
  {
   "cell_type": "code",
   "execution_count": null,
   "id": "7f3dedca",
   "metadata": {},
   "outputs": [],
   "source": []
  },
  {
   "cell_type": "code",
   "execution_count": null,
   "id": "777e2d8c",
   "metadata": {},
   "outputs": [],
   "source": []
  },
  {
   "cell_type": "code",
   "execution_count": 23,
   "id": "15000c46",
   "metadata": {},
   "outputs": [],
   "source": [
    "data_path = '../K-Fashion/014.K-Fashion_sample/'\n",
    "result_path = '../KFashion/'"
   ]
  },
  {
   "cell_type": "code",
   "execution_count": 22,
   "id": "75be34bc",
   "metadata": {},
   "outputs": [
    {
     "name": "stdout",
     "output_type": "stream",
     "text": [
      "['레트로', '로맨틱', '리조트', '매니시', '모던', '밀리터리', '섹시']\n"
     ]
    }
   ],
   "source": [
    "extractLabels(data_path, result_path)"
   ]
  },
  {
   "cell_type": "code",
   "execution_count": null,
   "id": "df045ef9",
   "metadata": {},
   "outputs": [],
   "source": []
  }
 ],
 "metadata": {
  "kernelspec": {
   "display_name": "Python 3",
   "language": "python",
   "name": "python3"
  },
  "language_info": {
   "codemirror_mode": {
    "name": "ipython",
    "version": 3
   },
   "file_extension": ".py",
   "mimetype": "text/x-python",
   "name": "python",
   "nbconvert_exporter": "python",
   "pygments_lexer": "ipython3",
   "version": "3.8.8"
  }
 },
 "nbformat": 4,
 "nbformat_minor": 5
}
