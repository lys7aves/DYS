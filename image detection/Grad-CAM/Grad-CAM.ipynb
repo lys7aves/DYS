{
 "cells": [
  {
   "cell_type": "code",
   "execution_count": 1,
   "id": "0bfa4f5e",
   "metadata": {},
   "outputs": [],
   "source": [
    "def generate_grad_cam(img_tensor, model, class_index, activation_layer):\n",
    "    \"\"\"\n",
    "    params:\n",
    "    -------\n",
    "    img_tensor: resnet50 모델의 이미지 전처리를 통한 image tensor\n",
    "    model: pretrained resnet50 모델 (include_top=True)\n",
    "    class_index: 이미지넷 정답 레이블\n",
    "    activation_layer: 시각화하려는 레이어 이름\n",
    "\n",
    "    return:\n",
    "    grad_cam: grad_cam 히트맵\n",
    "    \"\"\"\n",
    "    inp = model.input\n",
    "    y_c = model.output.op.inputs[0][0, class_index]\n",
    "    A_k = model.get_layer(activation_layer).output\n",
    "    \n",
    "    ## 이미지 텐서를 입력해서\n",
    "    ## 해당 액티베이션 레이어의 아웃풋(a_k)과\n",
    "    ## 소프트맥스 함수 인풋의 a_k에 대한 gradient를 구한다.\n",
    "    get_output = K.function([inp], [A_k, K.gradients(y_c, A_k)[0], model.output])\n",
    "    [conv_output, grad_val, model_output] = get_output([img_tensor])\n",
    "\n",
    "    ## 배치 사이즈가 1이므로 배치 차원을 없앤다.\n",
    "    conv_output = conv_output[0]\n",
    "    grad_val = grad_val[0]\n",
    "    \n",
    "    ## 구한 gradient를 픽셀 가로세로로 평균내서 a^c_k를 구한다.\n",
    "    weights = np.mean(grad_val, axis=(0, 1))\n",
    "    \n",
    "    ## 추출한 conv_output에 weight를 곱하고 합하여 grad_cam을 얻는다.\n",
    "    grad_cam = np.zeros(dtype=np.float32, shape=conv_output.shape[0:2])\n",
    "    for k, w in enumerate(weights):\n",
    "        grad_cam += w * conv_output[:, :, k]\n",
    "    \n",
    "    grad_cam = cv2.resize(grad_cam, (224, 224))\n",
    "\n",
    "    ## ReLU를 씌워 음수를 0으로 만든다.\n",
    "    grad_cam = np.maximum(grad_cam, 0)\n",
    "\n",
    "    grad_cam = grad_cam / grad_cam.max()\n",
    "    return grad_cam"
   ]
  },
  {
   "cell_type": "code",
   "execution_count": null,
   "id": "06cd68dd",
   "metadata": {},
   "outputs": [],
   "source": []
  }
 ],
 "metadata": {
  "kernelspec": {
   "display_name": "Python 3 (ipykernel)",
   "language": "python",
   "name": "python3"
  },
  "language_info": {
   "codemirror_mode": {
    "name": "ipython",
    "version": 3
   },
   "file_extension": ".py",
   "mimetype": "text/x-python",
   "name": "python",
   "nbconvert_exporter": "python",
   "pygments_lexer": "ipython3",
   "version": "3.8.8"
  }
 },
 "nbformat": 4,
 "nbformat_minor": 5
}
